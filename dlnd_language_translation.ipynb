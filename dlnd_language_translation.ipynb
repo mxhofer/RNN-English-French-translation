{
 "cells": [
  {
   "cell_type": "markdown",
   "metadata": {
    "collapsed": true,
    "deletable": true,
    "editable": true
   },
   "source": [
    "# Language Translation\n",
    "In this project, you’re going to take a peek into the realm of neural network machine translation.  You’ll be training a sequence to sequence model on a dataset of English and French sentences that can translate new sentences from English to French.\n",
    "## Get the Data\n",
    "Since translating the whole language of English to French will take lots of time to train, we have provided you with a small portion of the English corpus."
   ]
  },
  {
   "cell_type": "code",
   "execution_count": 1,
   "metadata": {
    "collapsed": false,
    "deletable": true,
    "editable": true
   },
   "outputs": [],
   "source": [
    "\"\"\"\n",
    "DON'T MODIFY ANYTHING IN THIS CELL\n",
    "\"\"\"\n",
    "import helper\n",
    "import problem_unittests as tests\n",
    "\n",
    "source_path = 'data/small_vocab_en'\n",
    "target_path = 'data/small_vocab_fr'\n",
    "source_text = helper.load_data(source_path)\n",
    "target_text = helper.load_data(target_path)"
   ]
  },
  {
   "cell_type": "markdown",
   "metadata": {
    "deletable": true,
    "editable": true
   },
   "source": [
    "## Explore the Data\n",
    "Play around with view_sentence_range to view different parts of the data."
   ]
  },
  {
   "cell_type": "code",
   "execution_count": 2,
   "metadata": {
    "collapsed": false,
    "deletable": true,
    "editable": true
   },
   "outputs": [
    {
     "name": "stdout",
     "output_type": "stream",
     "text": [
      "Dataset Stats\n",
      "Roughly the number of unique words: 227\n",
      "Number of sentences: 137861\n",
      "Average number of words in a sentence: 13.225277634719028\n",
      "\n",
      "English sentences 0 to 10:\n",
      "new jersey is sometimes quiet during autumn , and it is snowy in april .\n",
      "the united states is usually chilly during july , and it is usually freezing in november .\n",
      "california is usually quiet during march , and it is usually hot in june .\n",
      "the united states is sometimes mild during june , and it is cold in september .\n",
      "your least liked fruit is the grape , but my least liked is the apple .\n",
      "his favorite fruit is the orange , but my favorite is the grape .\n",
      "paris is relaxing during december , but it is usually chilly in july .\n",
      "new jersey is busy during spring , and it is never hot in march .\n",
      "our least liked fruit is the lemon , but my least liked is the grape .\n",
      "the united states is sometimes busy during january , and it is sometimes warm in november .\n",
      "\n",
      "French sentences 0 to 10:\n",
      "new jersey est parfois calme pendant l' automne , et il est neigeux en avril .\n",
      "les états-unis est généralement froid en juillet , et il gèle habituellement en novembre .\n",
      "california est généralement calme en mars , et il est généralement chaud en juin .\n",
      "les états-unis est parfois légère en juin , et il fait froid en septembre .\n",
      "votre moins aimé fruit est le raisin , mais mon moins aimé est la pomme .\n",
      "son fruit préféré est l'orange , mais mon préféré est le raisin .\n",
      "paris est relaxant en décembre , mais il est généralement froid en juillet .\n",
      "new jersey est occupé au printemps , et il est jamais chaude en mars .\n",
      "notre fruit est moins aimé le citron , mais mon moins aimé est le raisin .\n",
      "les états-unis est parfois occupé en janvier , et il est parfois chaud en novembre .\n"
     ]
    }
   ],
   "source": [
    "view_sentence_range = (0, 10)\n",
    "\n",
    "\"\"\"\n",
    "DON'T MODIFY ANYTHING IN THIS CELL\n",
    "\"\"\"\n",
    "import numpy as np\n",
    "\n",
    "print('Dataset Stats')\n",
    "print('Roughly the number of unique words: {}'.format(len({word: None for word in source_text.split()})))\n",
    "\n",
    "sentences = source_text.split('\\n')\n",
    "word_counts = [len(sentence.split()) for sentence in sentences]\n",
    "print('Number of sentences: {}'.format(len(sentences)))\n",
    "print('Average number of words in a sentence: {}'.format(np.average(word_counts)))\n",
    "\n",
    "print()\n",
    "print('English sentences {} to {}:'.format(*view_sentence_range))\n",
    "print('\\n'.join(source_text.split('\\n')[view_sentence_range[0]:view_sentence_range[1]]))\n",
    "print()\n",
    "print('French sentences {} to {}:'.format(*view_sentence_range))\n",
    "print('\\n'.join(target_text.split('\\n')[view_sentence_range[0]:view_sentence_range[1]]))"
   ]
  },
  {
   "cell_type": "markdown",
   "metadata": {
    "deletable": true,
    "editable": true
   },
   "source": [
    "## Implement Preprocessing Function\n",
    "### Text to Word Ids\n",
    "As you did with other RNNs, you must turn the text into a number so the computer can understand it. In the function `text_to_ids()`, you'll turn `source_text` and `target_text` from words to ids.  However, you need to add the `<EOS>` word id at the end of each sentence from `target_text`.  This will help the neural network predict when the sentence should end.\n",
    "\n",
    "You can get the `<EOS>` word id by doing:\n",
    "```python\n",
    "target_vocab_to_int['<EOS>']\n",
    "```\n",
    "You can get other word ids using `source_vocab_to_int` and `target_vocab_to_int`."
   ]
  },
  {
   "cell_type": "code",
   "execution_count": 4,
   "metadata": {
    "collapsed": false,
    "deletable": true,
    "editable": true
   },
   "outputs": [
    {
     "name": "stdout",
     "output_type": "stream",
     "text": [
      "Tests Passed\n"
     ]
    }
   ],
   "source": [
    "def text_to_ids(source_text, target_text, source_vocab_to_int, target_vocab_to_int):\n",
    "    \"\"\"\n",
    "    Convert source and target text to proper word ids\n",
    "    :param source_text: String that contains all the source text.\n",
    "    :param target_text: String that contains all the target text.\n",
    "    :param source_vocab_to_int: Dictionary to go from the source words to an id\n",
    "    :param target_vocab_to_int: Dictionary to go from the target words to an id\n",
    "    :return: A tuple of lists (source_id_text, target_id_text)\n",
    "    \"\"\"\n",
    "    # TODO: Implement Function\n",
    "    \n",
    "    source_id_text = [[source_vocab_to_int[word] for word in sentence.split()] for sentence in source_text.split('\\n')]\n",
    "    target_id_text = [\n",
    "        [target_vocab_to_int[word] for word in sentence.split()] + [target_vocab_to_int['<EOS>']]\n",
    "        for sentence in target_text.split('\\n')]\n",
    "    \n",
    "    return source_id_text, target_id_text\n",
    "\n",
    "\"\"\"\n",
    "DON'T MODIFY ANYTHING IN THIS CELL THAT IS BELOW THIS LINE\n",
    "\"\"\"\n",
    "tests.test_text_to_ids(text_to_ids)"
   ]
  },
  {
   "cell_type": "markdown",
   "metadata": {
    "deletable": true,
    "editable": true
   },
   "source": [
    "### Preprocess all the data and save it\n",
    "Running the code cell below will preprocess all the data and save it to file."
   ]
  },
  {
   "cell_type": "code",
   "execution_count": 5,
   "metadata": {
    "collapsed": false,
    "deletable": true,
    "editable": true
   },
   "outputs": [],
   "source": [
    "\"\"\"\n",
    "DON'T MODIFY ANYTHING IN THIS CELL\n",
    "\"\"\"\n",
    "helper.preprocess_and_save_data(source_path, target_path, text_to_ids)"
   ]
  },
  {
   "cell_type": "markdown",
   "metadata": {
    "deletable": true,
    "editable": true
   },
   "source": [
    "# Check Point\n",
    "This is your first checkpoint. If you ever decide to come back to this notebook or have to restart the notebook, you can start from here. The preprocessed data has been saved to disk."
   ]
  },
  {
   "cell_type": "code",
   "execution_count": 6,
   "metadata": {
    "collapsed": false,
    "deletable": true,
    "editable": true
   },
   "outputs": [],
   "source": [
    "\"\"\"\n",
    "DON'T MODIFY ANYTHING IN THIS CELL\n",
    "\"\"\"\n",
    "import numpy as np\n",
    "import helper\n",
    "\n",
    "(source_int_text, target_int_text), (source_vocab_to_int, target_vocab_to_int), _ = helper.load_preprocess()"
   ]
  },
  {
   "cell_type": "markdown",
   "metadata": {
    "deletable": true,
    "editable": true
   },
   "source": [
    "### Check the Version of TensorFlow and Access to GPU\n",
    "This will check to make sure you have the correct version of TensorFlow and access to a GPU"
   ]
  },
  {
   "cell_type": "code",
   "execution_count": 7,
   "metadata": {
    "collapsed": false,
    "deletable": true,
    "editable": true
   },
   "outputs": [
    {
     "name": "stdout",
     "output_type": "stream",
     "text": [
      "TensorFlow Version: 1.0.0\n",
      "Default GPU Device: /gpu:0\n"
     ]
    }
   ],
   "source": [
    "\"\"\"\n",
    "DON'T MODIFY ANYTHING IN THIS CELL\n",
    "\"\"\"\n",
    "from distutils.version import LooseVersion\n",
    "import warnings\n",
    "import tensorflow as tf\n",
    "\n",
    "# Check TensorFlow Version\n",
    "assert LooseVersion(tf.__version__) in [LooseVersion('1.0.0'), LooseVersion('1.0.1')], 'This project requires TensorFlow version 1.0  You are using {}'.format(tf.__version__)\n",
    "print('TensorFlow Version: {}'.format(tf.__version__))\n",
    "\n",
    "# Check for a GPU\n",
    "if not tf.test.gpu_device_name():\n",
    "    warnings.warn('No GPU found. Please use a GPU to train your neural network.')\n",
    "else:\n",
    "    print('Default GPU Device: {}'.format(tf.test.gpu_device_name()))"
   ]
  },
  {
   "cell_type": "markdown",
   "metadata": {
    "deletable": true,
    "editable": true
   },
   "source": [
    "## Build the Neural Network\n",
    "You'll build the components necessary to build a Sequence-to-Sequence model by implementing the following functions below:\n",
    "- `model_inputs`\n",
    "- `process_decoding_input`\n",
    "- `encoding_layer`\n",
    "- `decoding_layer_train`\n",
    "- `decoding_layer_infer`\n",
    "- `decoding_layer`\n",
    "- `seq2seq_model`\n",
    "\n",
    "### Input\n",
    "Implement the `model_inputs()` function to create TF Placeholders for the Neural Network. It should create the following placeholders:\n",
    "\n",
    "- Input text placeholder named \"input\" using the TF Placeholder name parameter with rank 2.\n",
    "- Targets placeholder with rank 2.\n",
    "- Learning rate placeholder with rank 0.\n",
    "- Keep probability placeholder named \"keep_prob\" using the TF Placeholder name parameter with rank 0.\n",
    "\n",
    "Return the placeholders in the following the tuple (Input, Targets, Learing Rate, Keep Probability)"
   ]
  },
  {
   "cell_type": "code",
   "execution_count": 8,
   "metadata": {
    "collapsed": false,
    "deletable": true,
    "editable": true
   },
   "outputs": [
    {
     "name": "stdout",
     "output_type": "stream",
     "text": [
      "Tests Passed\n"
     ]
    }
   ],
   "source": [
    "def model_inputs():\n",
    "    \"\"\"\n",
    "    Create TF Placeholders for input, targets, and learning rate.\n",
    "    :return: Tuple (input, targets, learning rate, keep probability)\n",
    "    \"\"\"\n",
    "    # TODO: Implement Function\n",
    "    model_input = tf.placeholder(tf.int32, [None, None], name=\"input\")\n",
    "    model_targets = tf.placeholder(tf.int32, [None, None], name=\"targets\")\n",
    "    learning_rate = tf.placeholder(tf.float32, None, name=\"learn_rate\")\n",
    "    keep_prob = tf.placeholder(tf.float32, None, name=\"keep_prob\")\n",
    "    \n",
    "    return model_input, model_targets, learning_rate, keep_prob\n",
    "\n",
    "\"\"\"\n",
    "DON'T MODIFY ANYTHING IN THIS CELL THAT IS BELOW THIS LINE\n",
    "\"\"\"\n",
    "tests.test_model_inputs(model_inputs)"
   ]
  },
  {
   "cell_type": "markdown",
   "metadata": {
    "deletable": true,
    "editable": true
   },
   "source": [
    "### Process Decoding Input\n",
    "Implement `process_decoding_input` using TensorFlow to remove the last word id from each batch in `target_data` and concat the GO ID to the begining of each batch."
   ]
  },
  {
   "cell_type": "code",
   "execution_count": 9,
   "metadata": {
    "collapsed": false,
    "deletable": true,
    "editable": true
   },
   "outputs": [
    {
     "name": "stdout",
     "output_type": "stream",
     "text": [
      "Tests Passed\n"
     ]
    }
   ],
   "source": [
    "def process_decoding_input(target_data, target_vocab_to_int, batch_size):\n",
    "    \"\"\"\n",
    "    Preprocess target data for dencoding\n",
    "    :param target_data: Target Placehoder\n",
    "    :param target_vocab_to_int: Dictionary to go from the target words to an id\n",
    "    :param batch_size: Batch Size\n",
    "    :return: Preprocessed target data\n",
    "    \"\"\"\n",
    "    # TODO: Implement Function\n",
    "    \n",
    "    ending = tf.strided_slice(target_data, [0, 0], [batch_size, -1], [1, 1])\n",
    "    decoded_input = tf.concat([tf.fill([batch_size, 1], target_vocab_to_int[\"<GO>\"]), ending], 1)\n",
    "    \n",
    "    return decoded_input\n",
    "\n",
    "\"\"\"\n",
    "DON'T MODIFY ANYTHING IN THIS CELL THAT IS BELOW THIS LINE\n",
    "\"\"\"\n",
    "tests.test_process_decoding_input(process_decoding_input)"
   ]
  },
  {
   "cell_type": "markdown",
   "metadata": {
    "deletable": true,
    "editable": true
   },
   "source": [
    "### Encoding\n",
    "Implement `encoding_layer()` to create a Encoder RNN layer using [`tf.nn.dynamic_rnn()`](https://www.tensorflow.org/api_docs/python/tf/nn/dynamic_rnn)."
   ]
  },
  {
   "cell_type": "code",
   "execution_count": 18,
   "metadata": {
    "collapsed": false,
    "deletable": true,
    "editable": true
   },
   "outputs": [
    {
     "name": "stdout",
     "output_type": "stream",
     "text": [
      "Tests Passed\n"
     ]
    }
   ],
   "source": [
    "def encoding_layer(rnn_inputs, rnn_size, num_layers, keep_prob):\n",
    "    \"\"\"\n",
    "    Create encoding layer\n",
    "    :param rnn_inputs: Inputs for the RNN\n",
    "    :param rnn_size: RNN Size\n",
    "    :param num_layers: Number of layers\n",
    "    :param keep_prob: Dropout keep probability\n",
    "    :return: RNN state\n",
    "    \"\"\"\n",
    "    # TODO: Implement Function\n",
    "    \n",
    "    decoder_cell = tf.contrib.rnn.MultiRNNCell([tf.contrib.rnn.BasicLSTMCell(rnn_size)] * num_layers)\n",
    "\n",
    "    # decoder_cell_dropout = tf.contrib.rnn.DropoutWrapper(decoder_cell, keep_prob)\n",
    "    _, dynamic_rnn_decoder = tf.nn.dynamic_rnn(decoder_cell, rnn_inputs, dtype=tf.float32)\n",
    "    \n",
    "    return dynamic_rnn_decoder\n",
    "\n",
    "\"\"\"\n",
    "DON'T MODIFY ANYTHING IN THIS CELL THAT IS BELOW THIS LINE\n",
    "\"\"\"\n",
    "tests.test_encoding_layer(encoding_layer)"
   ]
  },
  {
   "cell_type": "markdown",
   "metadata": {
    "deletable": true,
    "editable": true
   },
   "source": [
    "### Decoding - Training\n",
    "Create training logits using [`tf.contrib.seq2seq.simple_decoder_fn_train()`](https://www.tensorflow.org/api_docs/python/tf/contrib/seq2seq/simple_decoder_fn_train) and [`tf.contrib.seq2seq.dynamic_rnn_decoder()`](https://www.tensorflow.org/api_docs/python/tf/contrib/seq2seq/dynamic_rnn_decoder).  Apply the `output_fn` to the [`tf.contrib.seq2seq.dynamic_rnn_decoder()`](https://www.tensorflow.org/api_docs/python/tf/contrib/seq2seq/dynamic_rnn_decoder) outputs."
   ]
  },
  {
   "cell_type": "code",
   "execution_count": 19,
   "metadata": {
    "collapsed": false,
    "deletable": true,
    "editable": true
   },
   "outputs": [
    {
     "name": "stdout",
     "output_type": "stream",
     "text": [
      "Tests Passed\n"
     ]
    }
   ],
   "source": [
    "def decoding_layer_train(encoder_state, dec_cell, dec_embed_input, sequence_length, decoding_scope,\n",
    "                         output_fn, keep_prob):\n",
    "    \"\"\"\n",
    "    Create a decoding layer for training\n",
    "    :param encoder_state: Encoder State\n",
    "    :param dec_cell: Decoder RNN Cell\n",
    "    :param dec_embed_input: Decoder embedded input\n",
    "    :param sequence_length: Sequence Length\n",
    "    :param decoding_scope: TenorFlow Variable Scope for decoding\n",
    "    :param output_fn: Function to apply the output layer\n",
    "    :param keep_prob: Dropout keep probability\n",
    "    :return: Train Logits\n",
    "    \"\"\"\n",
    "    # TODO: Implement Function\n",
    "    \n",
    "    training_decoder_fn = tf.contrib.seq2seq.simple_decoder_fn_train(encoder_state)\n",
    "    training_logits, final_state, final_context_state = tf.contrib.seq2seq.dynamic_rnn_decoder(dec_cell, decoder_fn=training_decoder_fn, inputs=dec_embed_input, sequence_length=sequence_length, scope=decoding_scope)\n",
    "    training_logits = output_fn(training_logits)\n",
    "    \n",
    "    # training_logits = tf.contrib.layers.dropout(training_logits, keep_prob)\n",
    "    \n",
    "    return training_logits\n",
    "\n",
    "\n",
    "\"\"\"\n",
    "DON'T MODIFY ANYTHING IN THIS CELL THAT IS BELOW THIS LINE\n",
    "\"\"\"\n",
    "tests.test_decoding_layer_train(decoding_layer_train)"
   ]
  },
  {
   "cell_type": "markdown",
   "metadata": {
    "deletable": true,
    "editable": true
   },
   "source": [
    "### Decoding - Inference\n",
    "Create inference logits using [`tf.contrib.seq2seq.simple_decoder_fn_inference()`](https://www.tensorflow.org/api_docs/python/tf/contrib/seq2seq/simple_decoder_fn_inference) and [`tf.contrib.seq2seq.dynamic_rnn_decoder()`](https://www.tensorflow.org/api_docs/python/tf/contrib/seq2seq/dynamic_rnn_decoder). "
   ]
  },
  {
   "cell_type": "code",
   "execution_count": 20,
   "metadata": {
    "collapsed": false,
    "deletable": true,
    "editable": true
   },
   "outputs": [
    {
     "name": "stdout",
     "output_type": "stream",
     "text": [
      "Tests Passed\n"
     ]
    }
   ],
   "source": [
    "def decoding_layer_infer(encoder_state, dec_cell, dec_embeddings, start_of_sequence_id, end_of_sequence_id,\n",
    "                         maximum_length, vocab_size, decoding_scope, output_fn, keep_prob):\n",
    "    \"\"\"\n",
    "    Create a decoding layer for inference\n",
    "    :param encoder_state: Encoder state\n",
    "    :param dec_cell: Decoder RNN Cell\n",
    "    :param dec_embeddings: Decoder embeddings\n",
    "    :param start_of_sequence_id: GO ID\n",
    "    :param end_of_sequence_id: EOS Id\n",
    "    :param maximum_length: The maximum allowed time steps to decode\n",
    "    :param vocab_size: Size of vocabulary\n",
    "    :param decoding_scope: TensorFlow Variable Scope for decoding\n",
    "    :param output_fn: Function to apply the output layer\n",
    "    :param keep_prob: Dropout keep probability\n",
    "    :return: Inference Logits\n",
    "    \"\"\"\n",
    "    # TODO: Implement Function\n",
    "    \n",
    "    decoder_fn_inference = tf.contrib.seq2seq.simple_decoder_fn_inference(output_fn=output_fn, encoder_state=encoder_state, embeddings=dec_embeddings, start_of_sequence_id=start_of_sequence_id, end_of_sequence_id=end_of_sequence_id,maximum_length=maximum_length,num_decoder_symbols=vocab_size)\n",
    "    inference_logits, final_state, final_context_state = tf.contrib.seq2seq.dynamic_rnn_decoder(dec_cell, decoder_fn=decoder_fn_inference, scope=decoding_scope)\n",
    "    \n",
    "    return inference_logits\n",
    "\n",
    "\n",
    "\"\"\"\n",
    "DON'T MODIFY ANYTHING IN THIS CELL THAT IS BELOW THIS LINE\n",
    "\"\"\"\n",
    "tests.test_decoding_layer_infer(decoding_layer_infer)"
   ]
  },
  {
   "cell_type": "markdown",
   "metadata": {
    "deletable": true,
    "editable": true
   },
   "source": [
    "### Build the Decoding Layer\n",
    "Implement `decoding_layer()` to create a Decoder RNN layer.\n",
    "\n",
    "- Create RNN cell for decoding using `rnn_size` and `num_layers`.\n",
    "- Create the output fuction using [`lambda`](https://docs.python.org/3/tutorial/controlflow.html#lambda-expressions) to transform it's input, logits, to class logits.\n",
    "- Use the your `decoding_layer_train(encoder_state, dec_cell, dec_embed_input, sequence_length, decoding_scope, output_fn, keep_prob)` function to get the training logits.\n",
    "- Use your `decoding_layer_infer(encoder_state, dec_cell, dec_embeddings, start_of_sequence_id, end_of_sequence_id, maximum_length, vocab_size, decoding_scope, output_fn, keep_prob)` function to get the inference logits.\n",
    "\n",
    "Note: You'll need to use [tf.variable_scope](https://www.tensorflow.org/api_docs/python/tf/variable_scope) to share variables between training and inference."
   ]
  },
  {
   "cell_type": "code",
   "execution_count": 21,
   "metadata": {
    "collapsed": false,
    "deletable": true,
    "editable": true
   },
   "outputs": [
    {
     "name": "stdout",
     "output_type": "stream",
     "text": [
      "Tests Passed\n"
     ]
    }
   ],
   "source": [
    "def decoding_layer(dec_embed_input, dec_embeddings, encoder_state, vocab_size, sequence_length, rnn_size,\n",
    "                   num_layers, target_vocab_to_int, keep_prob):\n",
    "    \"\"\"\n",
    "    Create decoding layer\n",
    "    :param dec_embed_input: Decoder embedded input\n",
    "    :param dec_embeddings: Decoder embeddings\n",
    "    :param encoder_state: The encoded state\n",
    "    :param vocab_size: Size of vocabulary\n",
    "    :param sequence_length: Sequence Length\n",
    "    :param rnn_size: RNN Size\n",
    "    :param num_layers: Number of layers\n",
    "    :param target_vocab_to_int: Dictionary to go from the target words to an id\n",
    "    :param keep_prob: Dropout keep probability\n",
    "    :return: Tuple of (Training Logits, Inference Logits)\n",
    "    \"\"\"\n",
    "    # TODO: Implement Function\n",
    "        \n",
    "        \n",
    "    dec_cell = tf.contrib.rnn.BasicLSTMCell(rnn_size)\n",
    "    dec_cell_dropout = tf.contrib.rnn.DropoutWrapper(dec_cell, keep_prob)\n",
    "    dec_cell_multi = tf.contrib.rnn.MultiRNNCell([dec_cell_dropout] * num_layers)\n",
    "    \n",
    "    with tf.variable_scope(\"decoding\") as decoding_scope:\n",
    "        output_fn = lambda x: tf.contrib.layers.fully_connected(x, vocab_size, None, scope=decoding_scope)\n",
    "\n",
    "    with tf.variable_scope(\"decoding\") as decoding_scope:\n",
    "        training_logits = decoding_layer_train(encoder_state, dec_cell_multi, dec_embed_input, sequence_length, decoding_scope,\n",
    "                                        output_fn, keep_prob)\n",
    "    \n",
    "    with tf.variable_scope(\"decoding\", reuse=True) as decoding_scope:\n",
    "        inference_logits = decoding_layer_infer(encoder_state, dec_cell_multi, dec_embeddings, target_vocab_to_int['<GO>'], target_vocab_to_int['<EOS>'],\n",
    "                                    sequence_length, vocab_size, decoding_scope, output_fn, keep_prob)\n",
    "\n",
    "    return training_logits, inference_logits\n",
    "\n",
    "\n",
    "\"\"\"\n",
    "DON'T MODIFY ANYTHING IN THIS CELL THAT IS BELOW THIS LINE\n",
    "\"\"\"\n",
    "tests.test_decoding_layer(decoding_layer)"
   ]
  },
  {
   "cell_type": "markdown",
   "metadata": {
    "deletable": true,
    "editable": true
   },
   "source": [
    "### Build the Neural Network\n",
    "Apply the functions you implemented above to:\n",
    "\n",
    "- Apply embedding to the input data for the encoder.\n",
    "- Encode the input using your `encoding_layer(rnn_inputs, rnn_size, num_layers, keep_prob)`.\n",
    "- Process target data using your `process_decoding_input(target_data, target_vocab_to_int, batch_size)` function.\n",
    "- Apply embedding to the target data for the decoder.\n",
    "- Decode the encoded input using your `decoding_layer(dec_embed_input, dec_embeddings, encoder_state, vocab_size, sequence_length, rnn_size, num_layers, target_vocab_to_int, keep_prob)`."
   ]
  },
  {
   "cell_type": "code",
   "execution_count": 22,
   "metadata": {
    "collapsed": false,
    "deletable": true,
    "editable": true
   },
   "outputs": [
    {
     "name": "stdout",
     "output_type": "stream",
     "text": [
      "Tests Passed\n"
     ]
    }
   ],
   "source": [
    "def seq2seq_model(input_data, target_data, keep_prob, batch_size, sequence_length, source_vocab_size, target_vocab_size,\n",
    "                  enc_embedding_size, dec_embedding_size, rnn_size, num_layers, target_vocab_to_int):\n",
    "    \"\"\"\n",
    "    Build the Sequence-to-Sequence part of the neural network\n",
    "    :param input_data: Input placeholder\n",
    "    :param target_data: Target placeholder\n",
    "    :param keep_prob: Dropout keep probability placeholder\n",
    "    :param batch_size: Batch Size\n",
    "    :param sequence_length: Sequence Length\n",
    "    :param source_vocab_size: Source vocabulary size\n",
    "    :param target_vocab_size: Target vocabulary size\n",
    "    :param enc_embedding_size: Decoder embedding size\n",
    "    :param dec_embedding_size: Encoder embedding size\n",
    "    :param rnn_size: RNN Size\n",
    "    :param num_layers: Number of layers\n",
    "    :param target_vocab_to_int: Dictionary to go from the target words to an id\n",
    "    :return: Tuple of (Training Logits, Inference Logits)\n",
    "    \"\"\"\n",
    "    # TODO: Implement Function\n",
    "    \n",
    "    encoder_embed_input = tf.contrib.layers.embed_sequence(input_data, source_vocab_size, enc_embedding_size)\n",
    "    encoder_state = encoding_layer(encoder_embed_input, rnn_size, num_layers, keep_prob)\n",
    "    \n",
    "    decoder_input = process_decoding_input(target_data, target_vocab_to_int, batch_size) \n",
    "    decoder_embeddings = tf.Variable(tf.random_uniform([target_vocab_size, dec_embedding_size]))\n",
    "    decoder_embed_input = tf.nn.embedding_lookup(decoder_embeddings, decoder_input)\n",
    "   \n",
    "    training_logits, inference_logits = decoding_layer(decoder_embed_input, decoder_embeddings, encoder_state, target_vocab_size, \n",
    "                              sequence_length, rnn_size, num_layers, target_vocab_to_int, keep_prob)\n",
    "    \n",
    "    return training_logits,inference_logits\n",
    "\n",
    "\n",
    "\"\"\"\n",
    "DON'T MODIFY ANYTHING IN THIS CELL THAT IS BELOW THIS LINE\n",
    "\"\"\"\n",
    "tests.test_seq2seq_model(seq2seq_model)"
   ]
  },
  {
   "cell_type": "markdown",
   "metadata": {
    "deletable": true,
    "editable": true
   },
   "source": [
    "## Neural Network Training\n",
    "### Hyperparameters\n",
    "Tune the following parameters:\n",
    "\n",
    "- Set `epochs` to the number of epochs.\n",
    "- Set `batch_size` to the batch size.\n",
    "- Set `rnn_size` to the size of the RNNs.\n",
    "- Set `num_layers` to the number of layers.\n",
    "- Set `encoding_embedding_size` to the size of the embedding for the encoder.\n",
    "- Set `decoding_embedding_size` to the size of the embedding for the decoder.\n",
    "- Set `learning_rate` to the learning rate.\n",
    "- Set `keep_probability` to the Dropout keep probability"
   ]
  },
  {
   "cell_type": "code",
   "execution_count": 34,
   "metadata": {
    "collapsed": true,
    "deletable": true,
    "editable": true
   },
   "outputs": [],
   "source": [
    "# Number of Epochs\n",
    "epochs = 10\n",
    "# Batch Size\n",
    "batch_size = 256\n",
    "# RNN Size\n",
    "rnn_size = 128\n",
    "# Number of Layers\n",
    "num_layers = 2\n",
    "# Embedding Size\n",
    "encoding_embedding_size = 128  \n",
    "decoding_embedding_size = 128\n",
    "# Learning Rate\n",
    "learning_rate = 0.001\n",
    "# Dropout Keep Probability\n",
    "keep_probability = 0.8"
   ]
  },
  {
   "cell_type": "markdown",
   "metadata": {
    "deletable": true,
    "editable": true
   },
   "source": [
    "### Build the Graph\n",
    "Build the graph using the neural network you implemented."
   ]
  },
  {
   "cell_type": "code",
   "execution_count": 35,
   "metadata": {
    "collapsed": false,
    "deletable": true,
    "editable": true
   },
   "outputs": [],
   "source": [
    "\"\"\"\n",
    "DON'T MODIFY ANYTHING IN THIS CELL\n",
    "\"\"\"\n",
    "save_path = 'checkpoints/dev'\n",
    "(source_int_text, target_int_text), (source_vocab_to_int, target_vocab_to_int), _ = helper.load_preprocess()\n",
    "max_source_sentence_length = max([len(sentence) for sentence in source_int_text])\n",
    "\n",
    "train_graph = tf.Graph()\n",
    "with train_graph.as_default():\n",
    "    input_data, targets, lr, keep_prob = model_inputs()\n",
    "    sequence_length = tf.placeholder_with_default(max_source_sentence_length, None, name='sequence_length')\n",
    "    input_shape = tf.shape(input_data)\n",
    "    \n",
    "    train_logits, inference_logits = seq2seq_model(\n",
    "        tf.reverse(input_data, [-1]), targets, keep_prob, batch_size, sequence_length, len(source_vocab_to_int), len(target_vocab_to_int),\n",
    "        encoding_embedding_size, decoding_embedding_size, rnn_size, num_layers, target_vocab_to_int)\n",
    "\n",
    "    tf.identity(inference_logits, 'logits')\n",
    "    with tf.name_scope(\"optimization\"):\n",
    "        # Loss function\n",
    "        cost = tf.contrib.seq2seq.sequence_loss(\n",
    "            train_logits,\n",
    "            targets,\n",
    "            tf.ones([input_shape[0], sequence_length]))\n",
    "\n",
    "        # Optimizer\n",
    "        optimizer = tf.train.AdamOptimizer(lr)\n",
    "\n",
    "        # Gradient Clipping\n",
    "        gradients = optimizer.compute_gradients(cost)\n",
    "        capped_gradients = [(tf.clip_by_value(grad, -1., 1.), var) for grad, var in gradients if grad is not None]\n",
    "        train_op = optimizer.apply_gradients(capped_gradients)"
   ]
  },
  {
   "cell_type": "markdown",
   "metadata": {
    "deletable": true,
    "editable": true
   },
   "source": [
    "### Train\n",
    "Train the neural network on the preprocessed data. If you have a hard time getting a good loss, check the forms to see if anyone is having the same problem."
   ]
  },
  {
   "cell_type": "code",
   "execution_count": 36,
   "metadata": {
    "collapsed": false,
    "deletable": true,
    "editable": true,
    "scrolled": true
   },
   "outputs": [
    {
     "name": "stdout",
     "output_type": "stream",
     "text": [
      "Epoch   0 Batch    0/538 - Train Accuracy:  0.234, Validation Accuracy:  0.316, Loss:  5.855\n",
      "Epoch   0 Batch   10/538 - Train Accuracy:  0.221, Validation Accuracy:  0.316, Loss:  4.359\n",
      "Epoch   0 Batch   20/538 - Train Accuracy:  0.299, Validation Accuracy:  0.347, Loss:  3.419\n",
      "Epoch   0 Batch   30/538 - Train Accuracy:  0.295, Validation Accuracy:  0.366, Loss:  3.218\n",
      "Epoch   0 Batch   40/538 - Train Accuracy:  0.395, Validation Accuracy:  0.404, Loss:  2.778\n",
      "Epoch   0 Batch   50/538 - Train Accuracy:  0.359, Validation Accuracy:  0.418, Loss:  2.858\n",
      "Epoch   0 Batch   60/538 - Train Accuracy:  0.379, Validation Accuracy:  0.444, Loss:  2.802\n",
      "Epoch   0 Batch   70/538 - Train Accuracy:  0.418, Validation Accuracy:  0.457, Loss:  2.606\n",
      "Epoch   0 Batch   80/538 - Train Accuracy:  0.407, Validation Accuracy:  0.471, Loss:  2.681\n",
      "Epoch   0 Batch   90/538 - Train Accuracy:  0.436, Validation Accuracy:  0.470, Loss:  2.487\n",
      "Epoch   0 Batch  100/538 - Train Accuracy:  0.429, Validation Accuracy:  0.478, Loss:  2.516\n",
      "Epoch   0 Batch  110/538 - Train Accuracy:  0.425, Validation Accuracy:  0.479, Loss:  2.501\n",
      "Epoch   0 Batch  120/538 - Train Accuracy:  0.431, Validation Accuracy:  0.487, Loss:  2.430\n",
      "Epoch   0 Batch  130/538 - Train Accuracy:  0.454, Validation Accuracy:  0.484, Loss:  2.326\n",
      "Epoch   0 Batch  140/538 - Train Accuracy:  0.438, Validation Accuracy:  0.491, Loss:  2.383\n",
      "Epoch   0 Batch  150/538 - Train Accuracy:  0.453, Validation Accuracy:  0.492, Loss:  2.262\n",
      "Epoch   0 Batch  160/538 - Train Accuracy:  0.472, Validation Accuracy:  0.509, Loss:  2.147\n",
      "Epoch   0 Batch  170/538 - Train Accuracy:  0.466, Validation Accuracy:  0.496, Loss:  2.109\n",
      "Epoch   0 Batch  180/538 - Train Accuracy:  0.485, Validation Accuracy:  0.502, Loss:  2.015\n",
      "Epoch   0 Batch  190/538 - Train Accuracy:  0.465, Validation Accuracy:  0.493, Loss:  1.998\n",
      "Epoch   0 Batch  200/538 - Train Accuracy:  0.459, Validation Accuracy:  0.502, Loss:  1.981\n",
      "Epoch   0 Batch  210/538 - Train Accuracy:  0.483, Validation Accuracy:  0.519, Loss:  1.848\n",
      "Epoch   0 Batch  220/538 - Train Accuracy:  0.474, Validation Accuracy:  0.515, Loss:  1.798\n",
      "Epoch   0 Batch  230/538 - Train Accuracy:  0.473, Validation Accuracy:  0.517, Loss:  1.822\n",
      "Epoch   0 Batch  240/538 - Train Accuracy:  0.459, Validation Accuracy:  0.501, Loss:  1.757\n",
      "Epoch   0 Batch  250/538 - Train Accuracy:  0.447, Validation Accuracy:  0.505, Loss:  1.706\n",
      "Epoch   0 Batch  260/538 - Train Accuracy:  0.475, Validation Accuracy:  0.510, Loss:  1.612\n",
      "Epoch   0 Batch  270/538 - Train Accuracy:  0.449, Validation Accuracy:  0.512, Loss:  1.612\n",
      "Epoch   0 Batch  280/538 - Train Accuracy:  0.506, Validation Accuracy:  0.518, Loss:  1.475\n",
      "Epoch   0 Batch  290/538 - Train Accuracy:  0.454, Validation Accuracy:  0.506, Loss:  1.514\n",
      "Epoch   0 Batch  300/538 - Train Accuracy:  0.507, Validation Accuracy:  0.515, Loss:  1.373\n",
      "Epoch   0 Batch  310/538 - Train Accuracy:  0.477, Validation Accuracy:  0.517, Loss:  1.417\n",
      "Epoch   0 Batch  320/538 - Train Accuracy:  0.489, Validation Accuracy:  0.512, Loss:  1.324\n",
      "Epoch   0 Batch  330/538 - Train Accuracy:  0.502, Validation Accuracy:  0.520, Loss:  1.261\n",
      "Epoch   0 Batch  340/538 - Train Accuracy:  0.461, Validation Accuracy:  0.531, Loss:  1.303\n",
      "Epoch   0 Batch  350/538 - Train Accuracy:  0.503, Validation Accuracy:  0.524, Loss:  1.230\n",
      "Epoch   0 Batch  360/538 - Train Accuracy:  0.479, Validation Accuracy:  0.530, Loss:  1.228\n",
      "Epoch   0 Batch  370/538 - Train Accuracy:  0.478, Validation Accuracy:  0.529, Loss:  1.192\n",
      "Epoch   0 Batch  380/538 - Train Accuracy:  0.480, Validation Accuracy:  0.529, Loss:  1.135\n",
      "Epoch   0 Batch  390/538 - Train Accuracy:  0.534, Validation Accuracy:  0.539, Loss:  1.060\n",
      "Epoch   0 Batch  400/538 - Train Accuracy:  0.510, Validation Accuracy:  0.532, Loss:  1.066\n",
      "Epoch   0 Batch  410/538 - Train Accuracy:  0.524, Validation Accuracy:  0.548, Loss:  1.051\n",
      "Epoch   0 Batch  420/538 - Train Accuracy:  0.537, Validation Accuracy:  0.545, Loss:  1.029\n",
      "Epoch   0 Batch  430/538 - Train Accuracy:  0.540, Validation Accuracy:  0.551, Loss:  1.001\n",
      "Epoch   0 Batch  440/538 - Train Accuracy:  0.522, Validation Accuracy:  0.546, Loss:  1.020\n",
      "Epoch   0 Batch  450/538 - Train Accuracy:  0.563, Validation Accuracy:  0.553, Loss:  0.970\n",
      "Epoch   0 Batch  460/538 - Train Accuracy:  0.533, Validation Accuracy:  0.554, Loss:  0.937\n",
      "Epoch   0 Batch  470/538 - Train Accuracy:  0.562, Validation Accuracy:  0.555, Loss:  0.916\n",
      "Epoch   0 Batch  480/538 - Train Accuracy:  0.568, Validation Accuracy:  0.560, Loss:  0.898\n",
      "Epoch   0 Batch  490/538 - Train Accuracy:  0.548, Validation Accuracy:  0.563, Loss:  0.881\n",
      "Epoch   0 Batch  500/538 - Train Accuracy:  0.581, Validation Accuracy:  0.563, Loss:  0.832\n",
      "Epoch   0 Batch  510/538 - Train Accuracy:  0.577, Validation Accuracy:  0.570, Loss:  0.860\n",
      "Epoch   0 Batch  520/538 - Train Accuracy:  0.549, Validation Accuracy:  0.568, Loss:  0.891\n",
      "Epoch   0 Batch  530/538 - Train Accuracy:  0.553, Validation Accuracy:  0.578, Loss:  0.887\n",
      "Epoch   1 Batch    0/538 - Train Accuracy:  0.528, Validation Accuracy:  0.581, Loss:  0.849\n",
      "Epoch   1 Batch   10/538 - Train Accuracy:  0.541, Validation Accuracy:  0.577, Loss:  0.874\n",
      "Epoch   1 Batch   20/538 - Train Accuracy:  0.573, Validation Accuracy:  0.577, Loss:  0.817\n",
      "Epoch   1 Batch   30/538 - Train Accuracy:  0.565, Validation Accuracy:  0.579, Loss:  0.841\n",
      "Epoch   1 Batch   40/538 - Train Accuracy:  0.614, Validation Accuracy:  0.585, Loss:  0.738\n",
      "Epoch   1 Batch   50/538 - Train Accuracy:  0.575, Validation Accuracy:  0.585, Loss:  0.795\n",
      "Epoch   1 Batch   60/538 - Train Accuracy:  0.596, Validation Accuracy:  0.586, Loss:  0.783\n",
      "Epoch   1 Batch   70/538 - Train Accuracy:  0.592, Validation Accuracy:  0.585, Loss:  0.761\n",
      "Epoch   1 Batch   80/538 - Train Accuracy:  0.577, Validation Accuracy:  0.576, Loss:  0.800\n",
      "Epoch   1 Batch   90/538 - Train Accuracy:  0.588, Validation Accuracy:  0.584, Loss:  0.765\n",
      "Epoch   1 Batch  100/538 - Train Accuracy:  0.593, Validation Accuracy:  0.591, Loss:  0.744\n",
      "Epoch   1 Batch  110/538 - Train Accuracy:  0.574, Validation Accuracy:  0.594, Loss:  0.766\n",
      "Epoch   1 Batch  120/538 - Train Accuracy:  0.602, Validation Accuracy:  0.596, Loss:  0.722\n",
      "Epoch   1 Batch  130/538 - Train Accuracy:  0.603, Validation Accuracy:  0.584, Loss:  0.709\n",
      "Epoch   1 Batch  140/538 - Train Accuracy:  0.572, Validation Accuracy:  0.589, Loss:  0.766\n",
      "Epoch   1 Batch  150/538 - Train Accuracy:  0.608, Validation Accuracy:  0.594, Loss:  0.718\n",
      "Epoch   1 Batch  160/538 - Train Accuracy:  0.584, Validation Accuracy:  0.585, Loss:  0.683\n",
      "Epoch   1 Batch  170/538 - Train Accuracy:  0.610, Validation Accuracy:  0.590, Loss:  0.693\n",
      "Epoch   1 Batch  180/538 - Train Accuracy:  0.647, Validation Accuracy:  0.599, Loss:  0.688\n",
      "Epoch   1 Batch  190/538 - Train Accuracy:  0.595, Validation Accuracy:  0.604, Loss:  0.705\n",
      "Epoch   1 Batch  200/538 - Train Accuracy:  0.604, Validation Accuracy:  0.600, Loss:  0.680\n",
      "Epoch   1 Batch  210/538 - Train Accuracy:  0.616, Validation Accuracy:  0.620, Loss:  0.661\n",
      "Epoch   1 Batch  220/538 - Train Accuracy:  0.587, Validation Accuracy:  0.619, Loss:  0.657\n",
      "Epoch   1 Batch  230/538 - Train Accuracy:  0.594, Validation Accuracy:  0.611, Loss:  0.675\n",
      "Epoch   1 Batch  240/538 - Train Accuracy:  0.623, Validation Accuracy:  0.618, Loss:  0.675\n",
      "Epoch   1 Batch  250/538 - Train Accuracy:  0.604, Validation Accuracy:  0.626, Loss:  0.649\n",
      "Epoch   1 Batch  260/538 - Train Accuracy:  0.605, Validation Accuracy:  0.626, Loss:  0.644\n",
      "Epoch   1 Batch  270/538 - Train Accuracy:  0.593, Validation Accuracy:  0.620, Loss:  0.656\n",
      "Epoch   1 Batch  280/538 - Train Accuracy:  0.654, Validation Accuracy:  0.623, Loss:  0.614\n",
      "Epoch   1 Batch  290/538 - Train Accuracy:  0.597, Validation Accuracy:  0.633, Loss:  0.632\n",
      "Epoch   1 Batch  300/538 - Train Accuracy:  0.627, Validation Accuracy:  0.622, Loss:  0.616\n",
      "Epoch   1 Batch  310/538 - Train Accuracy:  0.627, Validation Accuracy:  0.636, Loss:  0.625\n",
      "Epoch   1 Batch  320/538 - Train Accuracy:  0.647, Validation Accuracy:  0.643, Loss:  0.617\n",
      "Epoch   1 Batch  330/538 - Train Accuracy:  0.640, Validation Accuracy:  0.642, Loss:  0.588\n",
      "Epoch   1 Batch  340/538 - Train Accuracy:  0.597, Validation Accuracy:  0.648, Loss:  0.635\n",
      "Epoch   1 Batch  350/538 - Train Accuracy:  0.633, Validation Accuracy:  0.639, Loss:  0.608\n",
      "Epoch   1 Batch  360/538 - Train Accuracy:  0.626, Validation Accuracy:  0.633, Loss:  0.614\n",
      "Epoch   1 Batch  370/538 - Train Accuracy:  0.631, Validation Accuracy:  0.640, Loss:  0.618\n",
      "Epoch   1 Batch  380/538 - Train Accuracy:  0.619, Validation Accuracy:  0.643, Loss:  0.592\n",
      "Epoch   1 Batch  390/538 - Train Accuracy:  0.657, Validation Accuracy:  0.637, Loss:  0.574\n",
      "Epoch   1 Batch  400/538 - Train Accuracy:  0.640, Validation Accuracy:  0.642, Loss:  0.575\n",
      "Epoch   1 Batch  410/538 - Train Accuracy:  0.634, Validation Accuracy:  0.641, Loss:  0.596\n",
      "Epoch   1 Batch  420/538 - Train Accuracy:  0.660, Validation Accuracy:  0.640, Loss:  0.576\n",
      "Epoch   1 Batch  430/538 - Train Accuracy:  0.648, Validation Accuracy:  0.647, Loss:  0.574\n",
      "Epoch   1 Batch  440/538 - Train Accuracy:  0.643, Validation Accuracy:  0.647, Loss:  0.596\n",
      "Epoch   1 Batch  450/538 - Train Accuracy:  0.664, Validation Accuracy:  0.648, Loss:  0.569\n",
      "Epoch   1 Batch  460/538 - Train Accuracy:  0.620, Validation Accuracy:  0.640, Loss:  0.543\n",
      "Epoch   1 Batch  470/538 - Train Accuracy:  0.647, Validation Accuracy:  0.654, Loss:  0.539\n",
      "Epoch   1 Batch  480/538 - Train Accuracy:  0.650, Validation Accuracy:  0.651, Loss:  0.535\n",
      "Epoch   1 Batch  490/538 - Train Accuracy:  0.662, Validation Accuracy:  0.659, Loss:  0.534\n",
      "Epoch   1 Batch  500/538 - Train Accuracy:  0.677, Validation Accuracy:  0.649, Loss:  0.500\n",
      "Epoch   1 Batch  510/538 - Train Accuracy:  0.653, Validation Accuracy:  0.658, Loss:  0.523\n",
      "Epoch   1 Batch  520/538 - Train Accuracy:  0.657, Validation Accuracy:  0.644, Loss:  0.548\n",
      "Epoch   1 Batch  530/538 - Train Accuracy:  0.663, Validation Accuracy:  0.656, Loss:  0.549\n",
      "Epoch   2 Batch    0/538 - Train Accuracy:  0.651, Validation Accuracy:  0.646, Loss:  0.520\n",
      "Epoch   2 Batch   10/538 - Train Accuracy:  0.617, Validation Accuracy:  0.653, Loss:  0.536\n",
      "Epoch   2 Batch   20/538 - Train Accuracy:  0.653, Validation Accuracy:  0.656, Loss:  0.519\n",
      "Epoch   2 Batch   30/538 - Train Accuracy:  0.653, Validation Accuracy:  0.671, Loss:  0.530\n",
      "Epoch   2 Batch   40/538 - Train Accuracy:  0.710, Validation Accuracy:  0.657, Loss:  0.454\n",
      "Epoch   2 Batch   50/538 - Train Accuracy:  0.670, Validation Accuracy:  0.659, Loss:  0.502\n",
      "Epoch   2 Batch   60/538 - Train Accuracy:  0.684, Validation Accuracy:  0.664, Loss:  0.489\n",
      "Epoch   2 Batch   70/538 - Train Accuracy:  0.672, Validation Accuracy:  0.675, Loss:  0.473\n",
      "Epoch   2 Batch   80/538 - Train Accuracy:  0.664, Validation Accuracy:  0.670, Loss:  0.505\n",
      "Epoch   2 Batch   90/538 - Train Accuracy:  0.669, Validation Accuracy:  0.665, Loss:  0.489\n",
      "Epoch   2 Batch  100/538 - Train Accuracy:  0.690, Validation Accuracy:  0.689, Loss:  0.465\n",
      "Epoch   2 Batch  110/538 - Train Accuracy:  0.659, Validation Accuracy:  0.679, Loss:  0.478\n",
      "Epoch   2 Batch  120/538 - Train Accuracy:  0.680, Validation Accuracy:  0.685, Loss:  0.454\n",
      "Epoch   2 Batch  130/538 - Train Accuracy:  0.692, Validation Accuracy:  0.681, Loss:  0.441\n",
      "Epoch   2 Batch  140/538 - Train Accuracy:  0.655, Validation Accuracy:  0.684, Loss:  0.487\n",
      "Epoch   2 Batch  150/538 - Train Accuracy:  0.717, Validation Accuracy:  0.684, Loss:  0.456\n",
      "Epoch   2 Batch  160/538 - Train Accuracy:  0.695, Validation Accuracy:  0.679, Loss:  0.432\n",
      "Epoch   2 Batch  170/538 - Train Accuracy:  0.697, Validation Accuracy:  0.684, Loss:  0.443\n",
      "Epoch   2 Batch  180/538 - Train Accuracy:  0.715, Validation Accuracy:  0.684, Loss:  0.431\n",
      "Epoch   2 Batch  190/538 - Train Accuracy:  0.688, Validation Accuracy:  0.703, Loss:  0.445\n",
      "Epoch   2 Batch  200/538 - Train Accuracy:  0.713, Validation Accuracy:  0.700, Loss:  0.423\n",
      "Epoch   2 Batch  210/538 - Train Accuracy:  0.679, Validation Accuracy:  0.695, Loss:  0.424\n",
      "Epoch   2 Batch  220/538 - Train Accuracy:  0.714, Validation Accuracy:  0.705, Loss:  0.408\n",
      "Epoch   2 Batch  230/538 - Train Accuracy:  0.705, Validation Accuracy:  0.706, Loss:  0.428\n",
      "Epoch   2 Batch  240/538 - Train Accuracy:  0.723, Validation Accuracy:  0.708, Loss:  0.426\n",
      "Epoch   2 Batch  250/538 - Train Accuracy:  0.722, Validation Accuracy:  0.702, Loss:  0.411\n",
      "Epoch   2 Batch  260/538 - Train Accuracy:  0.712, Validation Accuracy:  0.704, Loss:  0.404\n",
      "Epoch   2 Batch  270/538 - Train Accuracy:  0.715, Validation Accuracy:  0.694, Loss:  0.416\n",
      "Epoch   2 Batch  280/538 - Train Accuracy:  0.746, Validation Accuracy:  0.717, Loss:  0.379\n",
      "Epoch   2 Batch  290/538 - Train Accuracy:  0.748, Validation Accuracy:  0.715, Loss:  0.388\n",
      "Epoch   2 Batch  300/538 - Train Accuracy:  0.731, Validation Accuracy:  0.725, Loss:  0.388\n",
      "Epoch   2 Batch  310/538 - Train Accuracy:  0.760, Validation Accuracy:  0.724, Loss:  0.393\n",
      "Epoch   2 Batch  320/538 - Train Accuracy:  0.725, Validation Accuracy:  0.732, Loss:  0.382\n",
      "Epoch   2 Batch  330/538 - Train Accuracy:  0.764, Validation Accuracy:  0.728, Loss:  0.363\n",
      "Epoch   2 Batch  340/538 - Train Accuracy:  0.736, Validation Accuracy:  0.733, Loss:  0.390\n",
      "Epoch   2 Batch  350/538 - Train Accuracy:  0.746, Validation Accuracy:  0.738, Loss:  0.380\n",
      "Epoch   2 Batch  360/538 - Train Accuracy:  0.737, Validation Accuracy:  0.738, Loss:  0.374\n",
      "Epoch   2 Batch  370/538 - Train Accuracy:  0.748, Validation Accuracy:  0.743, Loss:  0.374\n",
      "Epoch   2 Batch  380/538 - Train Accuracy:  0.757, Validation Accuracy:  0.744, Loss:  0.362\n",
      "Epoch   2 Batch  390/538 - Train Accuracy:  0.790, Validation Accuracy:  0.745, Loss:  0.343\n",
      "Epoch   2 Batch  400/538 - Train Accuracy:  0.758, Validation Accuracy:  0.746, Loss:  0.345\n",
      "Epoch   2 Batch  410/538 - Train Accuracy:  0.767, Validation Accuracy:  0.753, Loss:  0.363\n",
      "Epoch   2 Batch  420/538 - Train Accuracy:  0.784, Validation Accuracy:  0.753, Loss:  0.346\n",
      "Epoch   2 Batch  430/538 - Train Accuracy:  0.783, Validation Accuracy:  0.766, Loss:  0.338\n",
      "Epoch   2 Batch  440/538 - Train Accuracy:  0.769, Validation Accuracy:  0.762, Loss:  0.360\n",
      "Epoch   2 Batch  450/538 - Train Accuracy:  0.776, Validation Accuracy:  0.773, Loss:  0.345\n",
      "Epoch   2 Batch  460/538 - Train Accuracy:  0.762, Validation Accuracy:  0.765, Loss:  0.331\n",
      "Epoch   2 Batch  470/538 - Train Accuracy:  0.781, Validation Accuracy:  0.768, Loss:  0.316\n",
      "Epoch   2 Batch  480/538 - Train Accuracy:  0.791, Validation Accuracy:  0.775, Loss:  0.312\n",
      "Epoch   2 Batch  490/538 - Train Accuracy:  0.798, Validation Accuracy:  0.786, Loss:  0.314\n",
      "Epoch   2 Batch  500/538 - Train Accuracy:  0.823, Validation Accuracy:  0.786, Loss:  0.287\n",
      "Epoch   2 Batch  510/538 - Train Accuracy:  0.795, Validation Accuracy:  0.788, Loss:  0.301\n",
      "Epoch   2 Batch  520/538 - Train Accuracy:  0.797, Validation Accuracy:  0.791, Loss:  0.319\n",
      "Epoch   2 Batch  530/538 - Train Accuracy:  0.778, Validation Accuracy:  0.788, Loss:  0.321\n",
      "Epoch   3 Batch    0/538 - Train Accuracy:  0.800, Validation Accuracy:  0.793, Loss:  0.296\n",
      "Epoch   3 Batch   10/538 - Train Accuracy:  0.792, Validation Accuracy:  0.803, Loss:  0.311\n",
      "Epoch   3 Batch   20/538 - Train Accuracy:  0.792, Validation Accuracy:  0.788, Loss:  0.307\n",
      "Epoch   3 Batch   30/538 - Train Accuracy:  0.796, Validation Accuracy:  0.805, Loss:  0.303\n",
      "Epoch   3 Batch   40/538 - Train Accuracy:  0.825, Validation Accuracy:  0.798, Loss:  0.258\n",
      "Epoch   3 Batch   50/538 - Train Accuracy:  0.816, Validation Accuracy:  0.815, Loss:  0.280\n",
      "Epoch   3 Batch   60/538 - Train Accuracy:  0.820, Validation Accuracy:  0.810, Loss:  0.277\n",
      "Epoch   3 Batch   70/538 - Train Accuracy:  0.824, Validation Accuracy:  0.813, Loss:  0.267\n",
      "Epoch   3 Batch   80/538 - Train Accuracy:  0.806, Validation Accuracy:  0.818, Loss:  0.287\n",
      "Epoch   3 Batch   90/538 - Train Accuracy:  0.812, Validation Accuracy:  0.812, Loss:  0.281\n",
      "Epoch   3 Batch  100/538 - Train Accuracy:  0.829, Validation Accuracy:  0.819, Loss:  0.259\n",
      "Epoch   3 Batch  110/538 - Train Accuracy:  0.831, Validation Accuracy:  0.824, Loss:  0.267\n",
      "Epoch   3 Batch  120/538 - Train Accuracy:  0.832, Validation Accuracy:  0.817, Loss:  0.249\n",
      "Epoch   3 Batch  130/538 - Train Accuracy:  0.837, Validation Accuracy:  0.820, Loss:  0.235\n",
      "Epoch   3 Batch  140/538 - Train Accuracy:  0.824, Validation Accuracy:  0.826, Loss:  0.272\n",
      "Epoch   3 Batch  150/538 - Train Accuracy:  0.827, Validation Accuracy:  0.827, Loss:  0.245\n",
      "Epoch   3 Batch  160/538 - Train Accuracy:  0.827, Validation Accuracy:  0.822, Loss:  0.236\n",
      "Epoch   3 Batch  170/538 - Train Accuracy:  0.823, Validation Accuracy:  0.838, Loss:  0.242\n",
      "Epoch   3 Batch  180/538 - Train Accuracy:  0.860, Validation Accuracy:  0.828, Loss:  0.236\n",
      "Epoch   3 Batch  190/538 - Train Accuracy:  0.820, Validation Accuracy:  0.825, Loss:  0.258\n",
      "Epoch   3 Batch  200/538 - Train Accuracy:  0.840, Validation Accuracy:  0.839, Loss:  0.233\n",
      "Epoch   3 Batch  210/538 - Train Accuracy:  0.832, Validation Accuracy:  0.841, Loss:  0.229\n",
      "Epoch   3 Batch  220/538 - Train Accuracy:  0.840, Validation Accuracy:  0.833, Loss:  0.218\n",
      "Epoch   3 Batch  230/538 - Train Accuracy:  0.853, Validation Accuracy:  0.844, Loss:  0.223\n",
      "Epoch   3 Batch  240/538 - Train Accuracy:  0.844, Validation Accuracy:  0.842, Loss:  0.228\n",
      "Epoch   3 Batch  250/538 - Train Accuracy:  0.852, Validation Accuracy:  0.839, Loss:  0.215\n",
      "Epoch   3 Batch  260/538 - Train Accuracy:  0.807, Validation Accuracy:  0.835, Loss:  0.220\n",
      "Epoch   3 Batch  270/538 - Train Accuracy:  0.849, Validation Accuracy:  0.840, Loss:  0.216\n",
      "Epoch   3 Batch  280/538 - Train Accuracy:  0.871, Validation Accuracy:  0.844, Loss:  0.198\n",
      "Epoch   3 Batch  290/538 - Train Accuracy:  0.866, Validation Accuracy:  0.847, Loss:  0.199\n",
      "Epoch   3 Batch  300/538 - Train Accuracy:  0.855, Validation Accuracy:  0.855, Loss:  0.205\n",
      "Epoch   3 Batch  310/538 - Train Accuracy:  0.884, Validation Accuracy:  0.850, Loss:  0.204\n",
      "Epoch   3 Batch  320/538 - Train Accuracy:  0.827, Validation Accuracy:  0.850, Loss:  0.198\n",
      "Epoch   3 Batch  330/538 - Train Accuracy:  0.869, Validation Accuracy:  0.849, Loss:  0.187\n",
      "Epoch   3 Batch  340/538 - Train Accuracy:  0.855, Validation Accuracy:  0.853, Loss:  0.202\n",
      "Epoch   3 Batch  350/538 - Train Accuracy:  0.851, Validation Accuracy:  0.848, Loss:  0.204\n",
      "Epoch   3 Batch  360/538 - Train Accuracy:  0.863, Validation Accuracy:  0.860, Loss:  0.192\n",
      "Epoch   3 Batch  370/538 - Train Accuracy:  0.863, Validation Accuracy:  0.857, Loss:  0.193\n",
      "Epoch   3 Batch  380/538 - Train Accuracy:  0.875, Validation Accuracy:  0.867, Loss:  0.177\n",
      "Epoch   3 Batch  390/538 - Train Accuracy:  0.889, Validation Accuracy:  0.866, Loss:  0.167\n",
      "Epoch   3 Batch  400/538 - Train Accuracy:  0.892, Validation Accuracy:  0.859, Loss:  0.181\n",
      "Epoch   3 Batch  410/538 - Train Accuracy:  0.878, Validation Accuracy:  0.866, Loss:  0.190\n",
      "Epoch   3 Batch  420/538 - Train Accuracy:  0.894, Validation Accuracy:  0.862, Loss:  0.177\n",
      "Epoch   3 Batch  430/538 - Train Accuracy:  0.879, Validation Accuracy:  0.869, Loss:  0.171\n",
      "Epoch   3 Batch  440/538 - Train Accuracy:  0.871, Validation Accuracy:  0.865, Loss:  0.190\n",
      "Epoch   3 Batch  450/538 - Train Accuracy:  0.872, Validation Accuracy:  0.865, Loss:  0.184\n",
      "Epoch   3 Batch  460/538 - Train Accuracy:  0.859, Validation Accuracy:  0.869, Loss:  0.170\n",
      "Epoch   3 Batch  470/538 - Train Accuracy:  0.891, Validation Accuracy:  0.858, Loss:  0.159\n",
      "Epoch   3 Batch  480/538 - Train Accuracy:  0.893, Validation Accuracy:  0.868, Loss:  0.158\n",
      "Epoch   3 Batch  490/538 - Train Accuracy:  0.889, Validation Accuracy:  0.870, Loss:  0.158\n",
      "Epoch   3 Batch  500/538 - Train Accuracy:  0.903, Validation Accuracy:  0.877, Loss:  0.140\n",
      "Epoch   3 Batch  510/538 - Train Accuracy:  0.890, Validation Accuracy:  0.864, Loss:  0.149\n",
      "Epoch   3 Batch  520/538 - Train Accuracy:  0.879, Validation Accuracy:  0.874, Loss:  0.160\n",
      "Epoch   3 Batch  530/538 - Train Accuracy:  0.863, Validation Accuracy:  0.881, Loss:  0.161\n",
      "Epoch   4 Batch    0/538 - Train Accuracy:  0.890, Validation Accuracy:  0.877, Loss:  0.146\n",
      "Epoch   4 Batch   10/538 - Train Accuracy:  0.880, Validation Accuracy:  0.879, Loss:  0.153\n",
      "Epoch   4 Batch   20/538 - Train Accuracy:  0.872, Validation Accuracy:  0.867, Loss:  0.153\n",
      "Epoch   4 Batch   30/538 - Train Accuracy:  0.891, Validation Accuracy:  0.863, Loss:  0.158\n",
      "Epoch   4 Batch   40/538 - Train Accuracy:  0.883, Validation Accuracy:  0.873, Loss:  0.129\n",
      "Epoch   4 Batch   50/538 - Train Accuracy:  0.892, Validation Accuracy:  0.883, Loss:  0.141\n",
      "Epoch   4 Batch   60/538 - Train Accuracy:  0.897, Validation Accuracy:  0.889, Loss:  0.140\n",
      "Epoch   4 Batch   70/538 - Train Accuracy:  0.878, Validation Accuracy:  0.883, Loss:  0.136\n",
      "Epoch   4 Batch   80/538 - Train Accuracy:  0.887, Validation Accuracy:  0.890, Loss:  0.148\n",
      "Epoch   4 Batch   90/538 - Train Accuracy:  0.908, Validation Accuracy:  0.895, Loss:  0.144\n",
      "Epoch   4 Batch  100/538 - Train Accuracy:  0.903, Validation Accuracy:  0.891, Loss:  0.130\n",
      "Epoch   4 Batch  110/538 - Train Accuracy:  0.910, Validation Accuracy:  0.887, Loss:  0.129\n",
      "Epoch   4 Batch  120/538 - Train Accuracy:  0.904, Validation Accuracy:  0.891, Loss:  0.121\n",
      "Epoch   4 Batch  130/538 - Train Accuracy:  0.915, Validation Accuracy:  0.891, Loss:  0.118\n",
      "Epoch   4 Batch  140/538 - Train Accuracy:  0.870, Validation Accuracy:  0.883, Loss:  0.146\n",
      "Epoch   4 Batch  150/538 - Train Accuracy:  0.884, Validation Accuracy:  0.900, Loss:  0.123\n",
      "Epoch   4 Batch  160/538 - Train Accuracy:  0.890, Validation Accuracy:  0.887, Loss:  0.117\n",
      "Epoch   4 Batch  170/538 - Train Accuracy:  0.894, Validation Accuracy:  0.893, Loss:  0.131\n",
      "Epoch   4 Batch  180/538 - Train Accuracy:  0.915, Validation Accuracy:  0.888, Loss:  0.119\n",
      "Epoch   4 Batch  190/538 - Train Accuracy:  0.888, Validation Accuracy:  0.885, Loss:  0.139\n",
      "Epoch   4 Batch  200/538 - Train Accuracy:  0.904, Validation Accuracy:  0.891, Loss:  0.114\n",
      "Epoch   4 Batch  210/538 - Train Accuracy:  0.889, Validation Accuracy:  0.901, Loss:  0.117\n",
      "Epoch   4 Batch  220/538 - Train Accuracy:  0.896, Validation Accuracy:  0.901, Loss:  0.110\n",
      "Epoch   4 Batch  230/538 - Train Accuracy:  0.904, Validation Accuracy:  0.899, Loss:  0.118\n",
      "Epoch   4 Batch  240/538 - Train Accuracy:  0.902, Validation Accuracy:  0.899, Loss:  0.120\n",
      "Epoch   4 Batch  250/538 - Train Accuracy:  0.909, Validation Accuracy:  0.911, Loss:  0.110\n",
      "Epoch   4 Batch  260/538 - Train Accuracy:  0.873, Validation Accuracy:  0.901, Loss:  0.115\n",
      "Epoch   4 Batch  270/538 - Train Accuracy:  0.896, Validation Accuracy:  0.909, Loss:  0.112\n",
      "Epoch   4 Batch  280/538 - Train Accuracy:  0.908, Validation Accuracy:  0.905, Loss:  0.102\n",
      "Epoch   4 Batch  290/538 - Train Accuracy:  0.920, Validation Accuracy:  0.902, Loss:  0.102\n",
      "Epoch   4 Batch  300/538 - Train Accuracy:  0.889, Validation Accuracy:  0.905, Loss:  0.113\n",
      "Epoch   4 Batch  310/538 - Train Accuracy:  0.942, Validation Accuracy:  0.907, Loss:  0.110\n",
      "Epoch   4 Batch  320/538 - Train Accuracy:  0.900, Validation Accuracy:  0.911, Loss:  0.101\n",
      "Epoch   4 Batch  330/538 - Train Accuracy:  0.911, Validation Accuracy:  0.896, Loss:  0.100\n",
      "Epoch   4 Batch  340/538 - Train Accuracy:  0.893, Validation Accuracy:  0.916, Loss:  0.108\n",
      "Epoch   4 Batch  350/538 - Train Accuracy:  0.910, Validation Accuracy:  0.900, Loss:  0.109\n",
      "Epoch   4 Batch  360/538 - Train Accuracy:  0.904, Validation Accuracy:  0.909, Loss:  0.100\n",
      "Epoch   4 Batch  370/538 - Train Accuracy:  0.902, Validation Accuracy:  0.920, Loss:  0.106\n",
      "Epoch   4 Batch  380/538 - Train Accuracy:  0.910, Validation Accuracy:  0.918, Loss:  0.094\n",
      "Epoch   4 Batch  390/538 - Train Accuracy:  0.924, Validation Accuracy:  0.900, Loss:  0.087\n",
      "Epoch   4 Batch  400/538 - Train Accuracy:  0.923, Validation Accuracy:  0.905, Loss:  0.097\n",
      "Epoch   4 Batch  410/538 - Train Accuracy:  0.921, Validation Accuracy:  0.905, Loss:  0.101\n",
      "Epoch   4 Batch  420/538 - Train Accuracy:  0.927, Validation Accuracy:  0.913, Loss:  0.098\n",
      "Epoch   4 Batch  430/538 - Train Accuracy:  0.921, Validation Accuracy:  0.910, Loss:  0.093\n",
      "Epoch   4 Batch  440/538 - Train Accuracy:  0.903, Validation Accuracy:  0.915, Loss:  0.103\n",
      "Epoch   4 Batch  450/538 - Train Accuracy:  0.909, Validation Accuracy:  0.924, Loss:  0.106\n",
      "Epoch   4 Batch  460/538 - Train Accuracy:  0.890, Validation Accuracy:  0.923, Loss:  0.094\n",
      "Epoch   4 Batch  470/538 - Train Accuracy:  0.922, Validation Accuracy:  0.903, Loss:  0.088\n",
      "Epoch   4 Batch  480/538 - Train Accuracy:  0.929, Validation Accuracy:  0.917, Loss:  0.080\n",
      "Epoch   4 Batch  490/538 - Train Accuracy:  0.911, Validation Accuracy:  0.914, Loss:  0.081\n",
      "Epoch   4 Batch  500/538 - Train Accuracy:  0.932, Validation Accuracy:  0.926, Loss:  0.072\n",
      "Epoch   4 Batch  510/538 - Train Accuracy:  0.919, Validation Accuracy:  0.905, Loss:  0.081\n",
      "Epoch   4 Batch  520/538 - Train Accuracy:  0.912, Validation Accuracy:  0.909, Loss:  0.087\n",
      "Epoch   4 Batch  530/538 - Train Accuracy:  0.898, Validation Accuracy:  0.900, Loss:  0.094\n",
      "Epoch   5 Batch    0/538 - Train Accuracy:  0.939, Validation Accuracy:  0.918, Loss:  0.080\n",
      "Epoch   5 Batch   10/538 - Train Accuracy:  0.916, Validation Accuracy:  0.914, Loss:  0.086\n",
      "Epoch   5 Batch   20/538 - Train Accuracy:  0.928, Validation Accuracy:  0.923, Loss:  0.084\n",
      "Epoch   5 Batch   30/538 - Train Accuracy:  0.916, Validation Accuracy:  0.919, Loss:  0.089\n",
      "Epoch   5 Batch   40/538 - Train Accuracy:  0.922, Validation Accuracy:  0.920, Loss:  0.071\n",
      "Epoch   5 Batch   50/538 - Train Accuracy:  0.917, Validation Accuracy:  0.924, Loss:  0.077\n",
      "Epoch   5 Batch   60/538 - Train Accuracy:  0.921, Validation Accuracy:  0.907, Loss:  0.076\n",
      "Epoch   5 Batch   70/538 - Train Accuracy:  0.916, Validation Accuracy:  0.916, Loss:  0.079\n",
      "Epoch   5 Batch   80/538 - Train Accuracy:  0.925, Validation Accuracy:  0.910, Loss:  0.083\n",
      "Epoch   5 Batch   90/538 - Train Accuracy:  0.935, Validation Accuracy:  0.918, Loss:  0.086\n",
      "Epoch   5 Batch  100/538 - Train Accuracy:  0.947, Validation Accuracy:  0.923, Loss:  0.071\n",
      "Epoch   5 Batch  110/538 - Train Accuracy:  0.939, Validation Accuracy:  0.924, Loss:  0.071\n",
      "Epoch   5 Batch  120/538 - Train Accuracy:  0.936, Validation Accuracy:  0.925, Loss:  0.064\n",
      "Epoch   5 Batch  130/538 - Train Accuracy:  0.945, Validation Accuracy:  0.927, Loss:  0.063\n",
      "Epoch   5 Batch  140/538 - Train Accuracy:  0.894, Validation Accuracy:  0.921, Loss:  0.093\n",
      "Epoch   5 Batch  150/538 - Train Accuracy:  0.923, Validation Accuracy:  0.925, Loss:  0.071\n",
      "Epoch   5 Batch  160/538 - Train Accuracy:  0.906, Validation Accuracy:  0.912, Loss:  0.064\n",
      "Epoch   5 Batch  170/538 - Train Accuracy:  0.913, Validation Accuracy:  0.929, Loss:  0.077\n",
      "Epoch   5 Batch  180/538 - Train Accuracy:  0.928, Validation Accuracy:  0.911, Loss:  0.071\n",
      "Epoch   5 Batch  190/538 - Train Accuracy:  0.911, Validation Accuracy:  0.916, Loss:  0.090\n",
      "Epoch   5 Batch  200/538 - Train Accuracy:  0.935, Validation Accuracy:  0.928, Loss:  0.066\n",
      "Epoch   5 Batch  210/538 - Train Accuracy:  0.919, Validation Accuracy:  0.928, Loss:  0.073\n",
      "Epoch   5 Batch  220/538 - Train Accuracy:  0.910, Validation Accuracy:  0.923, Loss:  0.070\n",
      "Epoch   5 Batch  230/538 - Train Accuracy:  0.911, Validation Accuracy:  0.921, Loss:  0.072\n",
      "Epoch   5 Batch  240/538 - Train Accuracy:  0.925, Validation Accuracy:  0.926, Loss:  0.074\n",
      "Epoch   5 Batch  250/538 - Train Accuracy:  0.930, Validation Accuracy:  0.926, Loss:  0.063\n",
      "Epoch   5 Batch  260/538 - Train Accuracy:  0.892, Validation Accuracy:  0.922, Loss:  0.070\n",
      "Epoch   5 Batch  270/538 - Train Accuracy:  0.930, Validation Accuracy:  0.935, Loss:  0.065\n",
      "Epoch   5 Batch  280/538 - Train Accuracy:  0.936, Validation Accuracy:  0.926, Loss:  0.061\n",
      "Epoch   5 Batch  290/538 - Train Accuracy:  0.949, Validation Accuracy:  0.921, Loss:  0.061\n",
      "Epoch   5 Batch  300/538 - Train Accuracy:  0.909, Validation Accuracy:  0.924, Loss:  0.069\n",
      "Epoch   5 Batch  310/538 - Train Accuracy:  0.942, Validation Accuracy:  0.932, Loss:  0.069\n",
      "Epoch   5 Batch  320/538 - Train Accuracy:  0.925, Validation Accuracy:  0.929, Loss:  0.062\n",
      "Epoch   5 Batch  330/538 - Train Accuracy:  0.931, Validation Accuracy:  0.925, Loss:  0.061\n",
      "Epoch   5 Batch  340/538 - Train Accuracy:  0.906, Validation Accuracy:  0.922, Loss:  0.068\n",
      "Epoch   5 Batch  350/538 - Train Accuracy:  0.925, Validation Accuracy:  0.925, Loss:  0.070\n",
      "Epoch   5 Batch  360/538 - Train Accuracy:  0.912, Validation Accuracy:  0.924, Loss:  0.064\n",
      "Epoch   5 Batch  370/538 - Train Accuracy:  0.925, Validation Accuracy:  0.928, Loss:  0.064\n",
      "Epoch   5 Batch  380/538 - Train Accuracy:  0.928, Validation Accuracy:  0.937, Loss:  0.058\n",
      "Epoch   5 Batch  390/538 - Train Accuracy:  0.941, Validation Accuracy:  0.940, Loss:  0.051\n",
      "Epoch   5 Batch  400/538 - Train Accuracy:  0.937, Validation Accuracy:  0.933, Loss:  0.061\n",
      "Epoch   5 Batch  410/538 - Train Accuracy:  0.938, Validation Accuracy:  0.940, Loss:  0.067\n",
      "Epoch   5 Batch  420/538 - Train Accuracy:  0.955, Validation Accuracy:  0.934, Loss:  0.062\n",
      "Epoch   5 Batch  430/538 - Train Accuracy:  0.931, Validation Accuracy:  0.929, Loss:  0.057\n",
      "Epoch   5 Batch  440/538 - Train Accuracy:  0.925, Validation Accuracy:  0.941, Loss:  0.067\n",
      "Epoch   5 Batch  450/538 - Train Accuracy:  0.930, Validation Accuracy:  0.931, Loss:  0.069\n",
      "Epoch   5 Batch  460/538 - Train Accuracy:  0.917, Validation Accuracy:  0.933, Loss:  0.063\n",
      "Epoch   5 Batch  470/538 - Train Accuracy:  0.932, Validation Accuracy:  0.921, Loss:  0.059\n",
      "Epoch   5 Batch  480/538 - Train Accuracy:  0.943, Validation Accuracy:  0.925, Loss:  0.054\n",
      "Epoch   5 Batch  490/538 - Train Accuracy:  0.932, Validation Accuracy:  0.930, Loss:  0.054\n",
      "Epoch   5 Batch  500/538 - Train Accuracy:  0.949, Validation Accuracy:  0.932, Loss:  0.046\n",
      "Epoch   5 Batch  510/538 - Train Accuracy:  0.933, Validation Accuracy:  0.926, Loss:  0.053\n",
      "Epoch   5 Batch  520/538 - Train Accuracy:  0.947, Validation Accuracy:  0.934, Loss:  0.059\n",
      "Epoch   5 Batch  530/538 - Train Accuracy:  0.915, Validation Accuracy:  0.928, Loss:  0.064\n",
      "Epoch   6 Batch    0/538 - Train Accuracy:  0.963, Validation Accuracy:  0.938, Loss:  0.048\n",
      "Epoch   6 Batch   10/538 - Train Accuracy:  0.927, Validation Accuracy:  0.929, Loss:  0.058\n",
      "Epoch   6 Batch   20/538 - Train Accuracy:  0.950, Validation Accuracy:  0.942, Loss:  0.056\n",
      "Epoch   6 Batch   30/538 - Train Accuracy:  0.938, Validation Accuracy:  0.932, Loss:  0.060\n",
      "Epoch   6 Batch   40/538 - Train Accuracy:  0.944, Validation Accuracy:  0.941, Loss:  0.046\n",
      "Epoch   6 Batch   50/538 - Train Accuracy:  0.924, Validation Accuracy:  0.942, Loss:  0.056\n",
      "Epoch   6 Batch   60/538 - Train Accuracy:  0.929, Validation Accuracy:  0.923, Loss:  0.052\n",
      "Epoch   6 Batch   70/538 - Train Accuracy:  0.928, Validation Accuracy:  0.930, Loss:  0.053\n",
      "Epoch   6 Batch   80/538 - Train Accuracy:  0.939, Validation Accuracy:  0.934, Loss:  0.057\n",
      "Epoch   6 Batch   90/538 - Train Accuracy:  0.934, Validation Accuracy:  0.936, Loss:  0.058\n",
      "Epoch   6 Batch  100/538 - Train Accuracy:  0.948, Validation Accuracy:  0.933, Loss:  0.049\n",
      "Epoch   6 Batch  110/538 - Train Accuracy:  0.949, Validation Accuracy:  0.935, Loss:  0.050\n",
      "Epoch   6 Batch  120/538 - Train Accuracy:  0.953, Validation Accuracy:  0.940, Loss:  0.042\n",
      "Epoch   6 Batch  130/538 - Train Accuracy:  0.953, Validation Accuracy:  0.936, Loss:  0.045\n",
      "Epoch   6 Batch  140/538 - Train Accuracy:  0.921, Validation Accuracy:  0.927, Loss:  0.064\n",
      "Epoch   6 Batch  150/538 - Train Accuracy:  0.941, Validation Accuracy:  0.936, Loss:  0.050\n",
      "Epoch   6 Batch  160/538 - Train Accuracy:  0.922, Validation Accuracy:  0.923, Loss:  0.046\n",
      "Epoch   6 Batch  170/538 - Train Accuracy:  0.926, Validation Accuracy:  0.931, Loss:  0.054\n",
      "Epoch   6 Batch  180/538 - Train Accuracy:  0.932, Validation Accuracy:  0.938, Loss:  0.050\n",
      "Epoch   6 Batch  190/538 - Train Accuracy:  0.931, Validation Accuracy:  0.936, Loss:  0.065\n",
      "Epoch   6 Batch  200/538 - Train Accuracy:  0.946, Validation Accuracy:  0.935, Loss:  0.042\n",
      "Epoch   6 Batch  210/538 - Train Accuracy:  0.932, Validation Accuracy:  0.929, Loss:  0.053\n",
      "Epoch   6 Batch  220/538 - Train Accuracy:  0.923, Validation Accuracy:  0.940, Loss:  0.053\n",
      "Epoch   6 Batch  230/538 - Train Accuracy:  0.918, Validation Accuracy:  0.939, Loss:  0.049\n",
      "Epoch   6 Batch  240/538 - Train Accuracy:  0.938, Validation Accuracy:  0.937, Loss:  0.053\n",
      "Epoch   6 Batch  250/538 - Train Accuracy:  0.954, Validation Accuracy:  0.942, Loss:  0.044\n",
      "Epoch   6 Batch  260/538 - Train Accuracy:  0.916, Validation Accuracy:  0.936, Loss:  0.050\n",
      "Epoch   6 Batch  270/538 - Train Accuracy:  0.936, Validation Accuracy:  0.942, Loss:  0.047\n",
      "Epoch   6 Batch  280/538 - Train Accuracy:  0.943, Validation Accuracy:  0.941, Loss:  0.042\n",
      "Epoch   6 Batch  290/538 - Train Accuracy:  0.953, Validation Accuracy:  0.931, Loss:  0.043\n",
      "Epoch   6 Batch  300/538 - Train Accuracy:  0.936, Validation Accuracy:  0.932, Loss:  0.052\n",
      "Epoch   6 Batch  310/538 - Train Accuracy:  0.960, Validation Accuracy:  0.934, Loss:  0.051\n",
      "Epoch   6 Batch  320/538 - Train Accuracy:  0.940, Validation Accuracy:  0.941, Loss:  0.044\n",
      "Epoch   6 Batch  330/538 - Train Accuracy:  0.941, Validation Accuracy:  0.937, Loss:  0.042\n",
      "Epoch   6 Batch  340/538 - Train Accuracy:  0.923, Validation Accuracy:  0.937, Loss:  0.049\n",
      "Epoch   6 Batch  350/538 - Train Accuracy:  0.941, Validation Accuracy:  0.944, Loss:  0.048\n",
      "Epoch   6 Batch  360/538 - Train Accuracy:  0.926, Validation Accuracy:  0.932, Loss:  0.044\n",
      "Epoch   6 Batch  370/538 - Train Accuracy:  0.939, Validation Accuracy:  0.946, Loss:  0.046\n",
      "Epoch   6 Batch  380/538 - Train Accuracy:  0.951, Validation Accuracy:  0.936, Loss:  0.041\n",
      "Epoch   6 Batch  390/538 - Train Accuracy:  0.947, Validation Accuracy:  0.941, Loss:  0.039\n",
      "Epoch   6 Batch  400/538 - Train Accuracy:  0.960, Validation Accuracy:  0.930, Loss:  0.045\n",
      "Epoch   6 Batch  410/538 - Train Accuracy:  0.962, Validation Accuracy:  0.942, Loss:  0.047\n",
      "Epoch   6 Batch  420/538 - Train Accuracy:  0.953, Validation Accuracy:  0.935, Loss:  0.051\n",
      "Epoch   6 Batch  430/538 - Train Accuracy:  0.931, Validation Accuracy:  0.937, Loss:  0.043\n",
      "Epoch   6 Batch  440/538 - Train Accuracy:  0.935, Validation Accuracy:  0.938, Loss:  0.046\n",
      "Epoch   6 Batch  450/538 - Train Accuracy:  0.926, Validation Accuracy:  0.945, Loss:  0.054\n",
      "Epoch   6 Batch  460/538 - Train Accuracy:  0.941, Validation Accuracy:  0.940, Loss:  0.046\n",
      "Epoch   6 Batch  470/538 - Train Accuracy:  0.943, Validation Accuracy:  0.924, Loss:  0.043\n",
      "Epoch   6 Batch  480/538 - Train Accuracy:  0.959, Validation Accuracy:  0.935, Loss:  0.042\n",
      "Epoch   6 Batch  490/538 - Train Accuracy:  0.945, Validation Accuracy:  0.934, Loss:  0.041\n",
      "Epoch   6 Batch  500/538 - Train Accuracy:  0.973, Validation Accuracy:  0.941, Loss:  0.031\n",
      "Epoch   6 Batch  510/538 - Train Accuracy:  0.953, Validation Accuracy:  0.940, Loss:  0.041\n",
      "Epoch   6 Batch  520/538 - Train Accuracy:  0.951, Validation Accuracy:  0.934, Loss:  0.045\n",
      "Epoch   6 Batch  530/538 - Train Accuracy:  0.936, Validation Accuracy:  0.944, Loss:  0.050\n",
      "Epoch   7 Batch    0/538 - Train Accuracy:  0.972, Validation Accuracy:  0.943, Loss:  0.035\n",
      "Epoch   7 Batch   10/538 - Train Accuracy:  0.937, Validation Accuracy:  0.934, Loss:  0.048\n",
      "Epoch   7 Batch   20/538 - Train Accuracy:  0.957, Validation Accuracy:  0.947, Loss:  0.044\n",
      "Epoch   7 Batch   30/538 - Train Accuracy:  0.957, Validation Accuracy:  0.934, Loss:  0.046\n",
      "Epoch   7 Batch   40/538 - Train Accuracy:  0.940, Validation Accuracy:  0.933, Loss:  0.033\n",
      "Epoch   7 Batch   50/538 - Train Accuracy:  0.936, Validation Accuracy:  0.941, Loss:  0.044\n",
      "Epoch   7 Batch   60/538 - Train Accuracy:  0.935, Validation Accuracy:  0.929, Loss:  0.042\n",
      "Epoch   7 Batch   70/538 - Train Accuracy:  0.956, Validation Accuracy:  0.949, Loss:  0.039\n",
      "Epoch   7 Batch   80/538 - Train Accuracy:  0.955, Validation Accuracy:  0.942, Loss:  0.041\n",
      "Epoch   7 Batch   90/538 - Train Accuracy:  0.948, Validation Accuracy:  0.944, Loss:  0.046\n",
      "Epoch   7 Batch  100/538 - Train Accuracy:  0.957, Validation Accuracy:  0.948, Loss:  0.038\n",
      "Epoch   7 Batch  110/538 - Train Accuracy:  0.950, Validation Accuracy:  0.937, Loss:  0.035\n",
      "Epoch   7 Batch  120/538 - Train Accuracy:  0.961, Validation Accuracy:  0.948, Loss:  0.031\n",
      "Epoch   7 Batch  130/538 - Train Accuracy:  0.956, Validation Accuracy:  0.950, Loss:  0.033\n",
      "Epoch   7 Batch  140/538 - Train Accuracy:  0.931, Validation Accuracy:  0.940, Loss:  0.052\n",
      "Epoch   7 Batch  150/538 - Train Accuracy:  0.954, Validation Accuracy:  0.946, Loss:  0.039\n",
      "Epoch   7 Batch  160/538 - Train Accuracy:  0.942, Validation Accuracy:  0.941, Loss:  0.034\n",
      "Epoch   7 Batch  170/538 - Train Accuracy:  0.948, Validation Accuracy:  0.944, Loss:  0.041\n",
      "Epoch   7 Batch  180/538 - Train Accuracy:  0.946, Validation Accuracy:  0.949, Loss:  0.038\n",
      "Epoch   7 Batch  190/538 - Train Accuracy:  0.945, Validation Accuracy:  0.927, Loss:  0.054\n",
      "Epoch   7 Batch  200/538 - Train Accuracy:  0.969, Validation Accuracy:  0.951, Loss:  0.033\n",
      "Epoch   7 Batch  210/538 - Train Accuracy:  0.940, Validation Accuracy:  0.934, Loss:  0.042\n",
      "Epoch   7 Batch  220/538 - Train Accuracy:  0.936, Validation Accuracy:  0.941, Loss:  0.041\n",
      "Epoch   7 Batch  230/538 - Train Accuracy:  0.934, Validation Accuracy:  0.950, Loss:  0.036\n",
      "Epoch   7 Batch  240/538 - Train Accuracy:  0.943, Validation Accuracy:  0.948, Loss:  0.039\n",
      "Epoch   7 Batch  250/538 - Train Accuracy:  0.962, Validation Accuracy:  0.949, Loss:  0.034\n",
      "Epoch   7 Batch  260/538 - Train Accuracy:  0.918, Validation Accuracy:  0.927, Loss:  0.040\n",
      "Epoch   7 Batch  270/538 - Train Accuracy:  0.950, Validation Accuracy:  0.935, Loss:  0.035\n",
      "Epoch   7 Batch  280/538 - Train Accuracy:  0.947, Validation Accuracy:  0.933, Loss:  0.034\n",
      "Epoch   7 Batch  290/538 - Train Accuracy:  0.972, Validation Accuracy:  0.940, Loss:  0.031\n",
      "Epoch   7 Batch  300/538 - Train Accuracy:  0.940, Validation Accuracy:  0.947, Loss:  0.038\n",
      "Epoch   7 Batch  310/538 - Train Accuracy:  0.966, Validation Accuracy:  0.950, Loss:  0.042\n",
      "Epoch   7 Batch  320/538 - Train Accuracy:  0.953, Validation Accuracy:  0.950, Loss:  0.033\n",
      "Epoch   7 Batch  330/538 - Train Accuracy:  0.956, Validation Accuracy:  0.956, Loss:  0.037\n",
      "Epoch   7 Batch  340/538 - Train Accuracy:  0.946, Validation Accuracy:  0.943, Loss:  0.037\n",
      "Epoch   7 Batch  350/538 - Train Accuracy:  0.957, Validation Accuracy:  0.939, Loss:  0.042\n",
      "Epoch   7 Batch  360/538 - Train Accuracy:  0.949, Validation Accuracy:  0.949, Loss:  0.033\n",
      "Epoch   7 Batch  370/538 - Train Accuracy:  0.951, Validation Accuracy:  0.940, Loss:  0.036\n",
      "Epoch   7 Batch  380/538 - Train Accuracy:  0.952, Validation Accuracy:  0.939, Loss:  0.031\n",
      "Epoch   7 Batch  390/538 - Train Accuracy:  0.961, Validation Accuracy:  0.940, Loss:  0.032\n",
      "Epoch   7 Batch  400/538 - Train Accuracy:  0.964, Validation Accuracy:  0.939, Loss:  0.034\n",
      "Epoch   7 Batch  410/538 - Train Accuracy:  0.964, Validation Accuracy:  0.949, Loss:  0.036\n",
      "Epoch   7 Batch  420/538 - Train Accuracy:  0.951, Validation Accuracy:  0.941, Loss:  0.040\n",
      "Epoch   7 Batch  430/538 - Train Accuracy:  0.938, Validation Accuracy:  0.940, Loss:  0.035\n",
      "Epoch   7 Batch  440/538 - Train Accuracy:  0.958, Validation Accuracy:  0.947, Loss:  0.035\n",
      "Epoch   7 Batch  450/538 - Train Accuracy:  0.933, Validation Accuracy:  0.954, Loss:  0.043\n",
      "Epoch   7 Batch  460/538 - Train Accuracy:  0.958, Validation Accuracy:  0.952, Loss:  0.034\n",
      "Epoch   7 Batch  470/538 - Train Accuracy:  0.959, Validation Accuracy:  0.940, Loss:  0.033\n",
      "Epoch   7 Batch  480/538 - Train Accuracy:  0.961, Validation Accuracy:  0.936, Loss:  0.031\n",
      "Epoch   7 Batch  490/538 - Train Accuracy:  0.953, Validation Accuracy:  0.942, Loss:  0.032\n",
      "Epoch   7 Batch  500/538 - Train Accuracy:  0.974, Validation Accuracy:  0.948, Loss:  0.024\n",
      "Epoch   7 Batch  510/538 - Train Accuracy:  0.965, Validation Accuracy:  0.953, Loss:  0.032\n",
      "Epoch   7 Batch  520/538 - Train Accuracy:  0.961, Validation Accuracy:  0.946, Loss:  0.036\n",
      "Epoch   7 Batch  530/538 - Train Accuracy:  0.940, Validation Accuracy:  0.950, Loss:  0.036\n",
      "Epoch   8 Batch    0/538 - Train Accuracy:  0.973, Validation Accuracy:  0.946, Loss:  0.027\n",
      "Epoch   8 Batch   10/538 - Train Accuracy:  0.947, Validation Accuracy:  0.950, Loss:  0.036\n",
      "Epoch   8 Batch   20/538 - Train Accuracy:  0.963, Validation Accuracy:  0.951, Loss:  0.034\n",
      "Epoch   8 Batch   30/538 - Train Accuracy:  0.958, Validation Accuracy:  0.942, Loss:  0.036\n",
      "Epoch   8 Batch   40/538 - Train Accuracy:  0.960, Validation Accuracy:  0.946, Loss:  0.026\n",
      "Epoch   8 Batch   50/538 - Train Accuracy:  0.943, Validation Accuracy:  0.942, Loss:  0.031\n",
      "Epoch   8 Batch   60/538 - Train Accuracy:  0.952, Validation Accuracy:  0.938, Loss:  0.032\n",
      "Epoch   8 Batch   70/538 - Train Accuracy:  0.966, Validation Accuracy:  0.935, Loss:  0.029\n",
      "Epoch   8 Batch   80/538 - Train Accuracy:  0.956, Validation Accuracy:  0.949, Loss:  0.032\n",
      "Epoch   8 Batch   90/538 - Train Accuracy:  0.957, Validation Accuracy:  0.955, Loss:  0.037\n",
      "Epoch   8 Batch  100/538 - Train Accuracy:  0.951, Validation Accuracy:  0.945, Loss:  0.029\n",
      "Epoch   8 Batch  110/538 - Train Accuracy:  0.964, Validation Accuracy:  0.947, Loss:  0.029\n",
      "Epoch   8 Batch  120/538 - Train Accuracy:  0.965, Validation Accuracy:  0.950, Loss:  0.024\n",
      "Epoch   8 Batch  130/538 - Train Accuracy:  0.967, Validation Accuracy:  0.952, Loss:  0.026\n",
      "Epoch   8 Batch  140/538 - Train Accuracy:  0.937, Validation Accuracy:  0.945, Loss:  0.043\n",
      "Epoch   8 Batch  150/538 - Train Accuracy:  0.963, Validation Accuracy:  0.954, Loss:  0.028\n",
      "Epoch   8 Batch  160/538 - Train Accuracy:  0.957, Validation Accuracy:  0.948, Loss:  0.027\n",
      "Epoch   8 Batch  170/538 - Train Accuracy:  0.945, Validation Accuracy:  0.948, Loss:  0.034\n",
      "Epoch   8 Batch  180/538 - Train Accuracy:  0.951, Validation Accuracy:  0.956, Loss:  0.030\n",
      "Epoch   8 Batch  190/538 - Train Accuracy:  0.954, Validation Accuracy:  0.946, Loss:  0.043\n",
      "Epoch   8 Batch  200/538 - Train Accuracy:  0.975, Validation Accuracy:  0.959, Loss:  0.026\n",
      "Epoch   8 Batch  210/538 - Train Accuracy:  0.948, Validation Accuracy:  0.949, Loss:  0.035\n",
      "Epoch   8 Batch  220/538 - Train Accuracy:  0.931, Validation Accuracy:  0.943, Loss:  0.033\n",
      "Epoch   8 Batch  230/538 - Train Accuracy:  0.946, Validation Accuracy:  0.952, Loss:  0.028\n",
      "Epoch   8 Batch  240/538 - Train Accuracy:  0.945, Validation Accuracy:  0.939, Loss:  0.033\n",
      "Epoch   8 Batch  250/538 - Train Accuracy:  0.966, Validation Accuracy:  0.958, Loss:  0.027\n",
      "Epoch   8 Batch  260/538 - Train Accuracy:  0.933, Validation Accuracy:  0.940, Loss:  0.033\n",
      "Epoch   8 Batch  270/538 - Train Accuracy:  0.949, Validation Accuracy:  0.945, Loss:  0.028\n",
      "Epoch   8 Batch  280/538 - Train Accuracy:  0.960, Validation Accuracy:  0.951, Loss:  0.024\n",
      "Epoch   8 Batch  290/538 - Train Accuracy:  0.973, Validation Accuracy:  0.949, Loss:  0.024\n",
      "Epoch   8 Batch  300/538 - Train Accuracy:  0.959, Validation Accuracy:  0.949, Loss:  0.031\n",
      "Epoch   8 Batch  310/538 - Train Accuracy:  0.961, Validation Accuracy:  0.954, Loss:  0.035\n",
      "Epoch   8 Batch  320/538 - Train Accuracy:  0.955, Validation Accuracy:  0.956, Loss:  0.026\n",
      "Epoch   8 Batch  330/538 - Train Accuracy:  0.960, Validation Accuracy:  0.942, Loss:  0.028\n",
      "Epoch   8 Batch  340/538 - Train Accuracy:  0.960, Validation Accuracy:  0.944, Loss:  0.030\n",
      "Epoch   8 Batch  350/538 - Train Accuracy:  0.967, Validation Accuracy:  0.961, Loss:  0.032\n",
      "Epoch   8 Batch  360/538 - Train Accuracy:  0.951, Validation Accuracy:  0.954, Loss:  0.028\n",
      "Epoch   8 Batch  370/538 - Train Accuracy:  0.954, Validation Accuracy:  0.953, Loss:  0.032\n",
      "Epoch   8 Batch  380/538 - Train Accuracy:  0.958, Validation Accuracy:  0.950, Loss:  0.026\n",
      "Epoch   8 Batch  390/538 - Train Accuracy:  0.963, Validation Accuracy:  0.942, Loss:  0.024\n",
      "Epoch   8 Batch  400/538 - Train Accuracy:  0.969, Validation Accuracy:  0.944, Loss:  0.028\n",
      "Epoch   8 Batch  410/538 - Train Accuracy:  0.973, Validation Accuracy:  0.941, Loss:  0.028\n",
      "Epoch   8 Batch  420/538 - Train Accuracy:  0.958, Validation Accuracy:  0.952, Loss:  0.033\n",
      "Epoch   8 Batch  430/538 - Train Accuracy:  0.946, Validation Accuracy:  0.938, Loss:  0.026\n",
      "Epoch   8 Batch  440/538 - Train Accuracy:  0.956, Validation Accuracy:  0.944, Loss:  0.029\n",
      "Epoch   8 Batch  450/538 - Train Accuracy:  0.933, Validation Accuracy:  0.956, Loss:  0.036\n",
      "Epoch   8 Batch  460/538 - Train Accuracy:  0.964, Validation Accuracy:  0.953, Loss:  0.029\n",
      "Epoch   8 Batch  470/538 - Train Accuracy:  0.964, Validation Accuracy:  0.954, Loss:  0.026\n",
      "Epoch   8 Batch  480/538 - Train Accuracy:  0.966, Validation Accuracy:  0.947, Loss:  0.026\n",
      "Epoch   8 Batch  490/538 - Train Accuracy:  0.950, Validation Accuracy:  0.944, Loss:  0.025\n",
      "Epoch   8 Batch  500/538 - Train Accuracy:  0.979, Validation Accuracy:  0.953, Loss:  0.019\n",
      "Epoch   8 Batch  510/538 - Train Accuracy:  0.969, Validation Accuracy:  0.953, Loss:  0.025\n",
      "Epoch   8 Batch  520/538 - Train Accuracy:  0.959, Validation Accuracy:  0.950, Loss:  0.032\n",
      "Epoch   8 Batch  530/538 - Train Accuracy:  0.954, Validation Accuracy:  0.952, Loss:  0.030\n",
      "Epoch   9 Batch    0/538 - Train Accuracy:  0.977, Validation Accuracy:  0.951, Loss:  0.022\n",
      "Epoch   9 Batch   10/538 - Train Accuracy:  0.945, Validation Accuracy:  0.956, Loss:  0.031\n",
      "Epoch   9 Batch   20/538 - Train Accuracy:  0.967, Validation Accuracy:  0.957, Loss:  0.026\n",
      "Epoch   9 Batch   30/538 - Train Accuracy:  0.961, Validation Accuracy:  0.942, Loss:  0.032\n",
      "Epoch   9 Batch   40/538 - Train Accuracy:  0.965, Validation Accuracy:  0.966, Loss:  0.022\n",
      "Epoch   9 Batch   50/538 - Train Accuracy:  0.962, Validation Accuracy:  0.952, Loss:  0.025\n",
      "Epoch   9 Batch   60/538 - Train Accuracy:  0.955, Validation Accuracy:  0.947, Loss:  0.028\n",
      "Epoch   9 Batch   70/538 - Train Accuracy:  0.978, Validation Accuracy:  0.963, Loss:  0.024\n",
      "Epoch   9 Batch   80/538 - Train Accuracy:  0.966, Validation Accuracy:  0.957, Loss:  0.025\n",
      "Epoch   9 Batch   90/538 - Train Accuracy:  0.966, Validation Accuracy:  0.961, Loss:  0.030\n",
      "Epoch   9 Batch  100/538 - Train Accuracy:  0.959, Validation Accuracy:  0.953, Loss:  0.026\n",
      "Epoch   9 Batch  110/538 - Train Accuracy:  0.966, Validation Accuracy:  0.952, Loss:  0.022\n",
      "Epoch   9 Batch  120/538 - Train Accuracy:  0.964, Validation Accuracy:  0.962, Loss:  0.020\n",
      "Epoch   9 Batch  130/538 - Train Accuracy:  0.967, Validation Accuracy:  0.958, Loss:  0.022\n",
      "Epoch   9 Batch  140/538 - Train Accuracy:  0.954, Validation Accuracy:  0.952, Loss:  0.036\n",
      "Epoch   9 Batch  150/538 - Train Accuracy:  0.970, Validation Accuracy:  0.955, Loss:  0.025\n",
      "Epoch   9 Batch  160/538 - Train Accuracy:  0.961, Validation Accuracy:  0.958, Loss:  0.023\n",
      "Epoch   9 Batch  170/538 - Train Accuracy:  0.952, Validation Accuracy:  0.959, Loss:  0.028\n",
      "Epoch   9 Batch  180/538 - Train Accuracy:  0.952, Validation Accuracy:  0.957, Loss:  0.026\n",
      "Epoch   9 Batch  190/538 - Train Accuracy:  0.947, Validation Accuracy:  0.954, Loss:  0.036\n",
      "Epoch   9 Batch  200/538 - Train Accuracy:  0.976, Validation Accuracy:  0.957, Loss:  0.021\n",
      "Epoch   9 Batch  210/538 - Train Accuracy:  0.956, Validation Accuracy:  0.953, Loss:  0.030\n",
      "Epoch   9 Batch  220/538 - Train Accuracy:  0.945, Validation Accuracy:  0.944, Loss:  0.029\n",
      "Epoch   9 Batch  230/538 - Train Accuracy:  0.943, Validation Accuracy:  0.951, Loss:  0.024\n",
      "Epoch   9 Batch  240/538 - Train Accuracy:  0.958, Validation Accuracy:  0.957, Loss:  0.027\n",
      "Epoch   9 Batch  250/538 - Train Accuracy:  0.971, Validation Accuracy:  0.958, Loss:  0.023\n",
      "Epoch   9 Batch  260/538 - Train Accuracy:  0.948, Validation Accuracy:  0.951, Loss:  0.025\n",
      "Epoch   9 Batch  270/538 - Train Accuracy:  0.962, Validation Accuracy:  0.964, Loss:  0.024\n",
      "Epoch   9 Batch  280/538 - Train Accuracy:  0.965, Validation Accuracy:  0.957, Loss:  0.021\n",
      "Epoch   9 Batch  290/538 - Train Accuracy:  0.971, Validation Accuracy:  0.959, Loss:  0.020\n",
      "Epoch   9 Batch  300/538 - Train Accuracy:  0.957, Validation Accuracy:  0.959, Loss:  0.025\n",
      "Epoch   9 Batch  310/538 - Train Accuracy:  0.961, Validation Accuracy:  0.962, Loss:  0.034\n",
      "Epoch   9 Batch  320/538 - Train Accuracy:  0.961, Validation Accuracy:  0.961, Loss:  0.023\n",
      "Epoch   9 Batch  330/538 - Train Accuracy:  0.966, Validation Accuracy:  0.946, Loss:  0.023\n",
      "Epoch   9 Batch  340/538 - Train Accuracy:  0.964, Validation Accuracy:  0.952, Loss:  0.026\n",
      "Epoch   9 Batch  350/538 - Train Accuracy:  0.976, Validation Accuracy:  0.966, Loss:  0.028\n",
      "Epoch   9 Batch  360/538 - Train Accuracy:  0.961, Validation Accuracy:  0.964, Loss:  0.024\n",
      "Epoch   9 Batch  370/538 - Train Accuracy:  0.963, Validation Accuracy:  0.955, Loss:  0.025\n",
      "Epoch   9 Batch  380/538 - Train Accuracy:  0.968, Validation Accuracy:  0.949, Loss:  0.021\n",
      "Epoch   9 Batch  390/538 - Train Accuracy:  0.976, Validation Accuracy:  0.956, Loss:  0.021\n",
      "Epoch   9 Batch  400/538 - Train Accuracy:  0.980, Validation Accuracy:  0.960, Loss:  0.023\n",
      "Epoch   9 Batch  410/538 - Train Accuracy:  0.979, Validation Accuracy:  0.947, Loss:  0.022\n",
      "Epoch   9 Batch  420/538 - Train Accuracy:  0.957, Validation Accuracy:  0.950, Loss:  0.028\n",
      "Epoch   9 Batch  430/538 - Train Accuracy:  0.958, Validation Accuracy:  0.947, Loss:  0.023\n",
      "Epoch   9 Batch  440/538 - Train Accuracy:  0.971, Validation Accuracy:  0.960, Loss:  0.024\n",
      "Epoch   9 Batch  450/538 - Train Accuracy:  0.948, Validation Accuracy:  0.960, Loss:  0.033\n",
      "Epoch   9 Batch  460/538 - Train Accuracy:  0.965, Validation Accuracy:  0.956, Loss:  0.024\n",
      "Epoch   9 Batch  470/538 - Train Accuracy:  0.970, Validation Accuracy:  0.956, Loss:  0.022\n",
      "Epoch   9 Batch  480/538 - Train Accuracy:  0.970, Validation Accuracy:  0.963, Loss:  0.021\n",
      "Epoch   9 Batch  490/538 - Train Accuracy:  0.962, Validation Accuracy:  0.958, Loss:  0.020\n",
      "Epoch   9 Batch  500/538 - Train Accuracy:  0.973, Validation Accuracy:  0.965, Loss:  0.016\n",
      "Epoch   9 Batch  510/538 - Train Accuracy:  0.978, Validation Accuracy:  0.959, Loss:  0.020\n",
      "Epoch   9 Batch  520/538 - Train Accuracy:  0.959, Validation Accuracy:  0.964, Loss:  0.025\n",
      "Epoch   9 Batch  530/538 - Train Accuracy:  0.959, Validation Accuracy:  0.951, Loss:  0.026\n",
      "Model Trained and Saved\n"
     ]
    }
   ],
   "source": [
    "\"\"\"\n",
    "DON'T MODIFY ANYTHING IN THIS CELL\n",
    "\"\"\"\n",
    "import time\n",
    "\n",
    "def get_accuracy(target, logits):\n",
    "    \"\"\"\n",
    "    Calculate accuracy\n",
    "    \"\"\"\n",
    "    max_seq = max(target.shape[1], logits.shape[1])\n",
    "    if max_seq - target.shape[1]:\n",
    "        target = np.pad(\n",
    "            target,\n",
    "            [(0,0),(0,max_seq - target.shape[1])],\n",
    "            'constant')\n",
    "    if max_seq - logits.shape[1]:\n",
    "        logits = np.pad(\n",
    "            logits,\n",
    "            [(0,0),(0,max_seq - logits.shape[1]), (0,0)],\n",
    "            'constant')\n",
    "\n",
    "    return np.mean(np.equal(target, np.argmax(logits, 2)))\n",
    "\n",
    "train_source = source_int_text[batch_size:]\n",
    "train_target = target_int_text[batch_size:]\n",
    "\n",
    "valid_source = helper.pad_sentence_batch(source_int_text[:batch_size])\n",
    "valid_target = helper.pad_sentence_batch(target_int_text[:batch_size])\n",
    "\n",
    "with tf.Session(graph=train_graph) as sess:\n",
    "    sess.run(tf.global_variables_initializer())\n",
    "\n",
    "    for epoch_i in range(epochs):\n",
    "        for batch_i, (source_batch, target_batch) in enumerate(\n",
    "                helper.batch_data(train_source, train_target, batch_size)):\n",
    "            start_time = time.time()\n",
    "            \n",
    "            _, loss = sess.run(\n",
    "                [train_op, cost],\n",
    "                {input_data: source_batch,\n",
    "                 targets: target_batch,\n",
    "                 lr: learning_rate,\n",
    "                 sequence_length: target_batch.shape[1],\n",
    "                 keep_prob: keep_probability})\n",
    "            \n",
    "            batch_train_logits = sess.run(\n",
    "                inference_logits,\n",
    "                {input_data: source_batch, keep_prob: 1.0})\n",
    "            batch_valid_logits = sess.run(\n",
    "                inference_logits,\n",
    "                {input_data: valid_source, keep_prob: 1.0})\n",
    "                \n",
    "            train_acc = get_accuracy(target_batch, batch_train_logits)\n",
    "            valid_acc = get_accuracy(np.array(valid_target), batch_valid_logits)\n",
    "            end_time = time.time()\n",
    "\n",
    "            # added conditional to avoid an endless log\n",
    "            if batch_i % 10 == 0:\n",
    "                print('Epoch {:>3} Batch {:>4}/{} - Train Accuracy: {:>6.3f}, Validation Accuracy: {:>6.3f}, Loss: {:>6.3f}'\n",
    "                  .format(epoch_i, batch_i, len(source_int_text) // batch_size, train_acc, valid_acc, loss))\n",
    "\n",
    "    # Save Model\n",
    "    saver = tf.train.Saver()\n",
    "    saver.save(sess, save_path)\n",
    "    print('Model Trained and Saved')"
   ]
  },
  {
   "cell_type": "markdown",
   "metadata": {
    "deletable": true,
    "editable": true
   },
   "source": [
    "### Save Parameters\n",
    "Save the `batch_size` and `save_path` parameters for inference."
   ]
  },
  {
   "cell_type": "code",
   "execution_count": 37,
   "metadata": {
    "collapsed": false,
    "deletable": true,
    "editable": true
   },
   "outputs": [],
   "source": [
    "\"\"\"\n",
    "DON'T MODIFY ANYTHING IN THIS CELL\n",
    "\"\"\"\n",
    "# Save parameters for checkpoint\n",
    "helper.save_params(save_path)"
   ]
  },
  {
   "cell_type": "markdown",
   "metadata": {
    "deletable": true,
    "editable": true
   },
   "source": [
    "# Checkpoint"
   ]
  },
  {
   "cell_type": "code",
   "execution_count": 38,
   "metadata": {
    "collapsed": false,
    "deletable": true,
    "editable": true
   },
   "outputs": [],
   "source": [
    "\"\"\"\n",
    "DON'T MODIFY ANYTHING IN THIS CELL\n",
    "\"\"\"\n",
    "import tensorflow as tf\n",
    "import numpy as np\n",
    "import helper\n",
    "import problem_unittests as tests\n",
    "\n",
    "_, (source_vocab_to_int, target_vocab_to_int), (source_int_to_vocab, target_int_to_vocab) = helper.load_preprocess()\n",
    "load_path = helper.load_params()"
   ]
  },
  {
   "cell_type": "markdown",
   "metadata": {
    "deletable": true,
    "editable": true
   },
   "source": [
    "## Sentence to Sequence\n",
    "To feed a sentence into the model for translation, you first need to preprocess it.  Implement the function `sentence_to_seq()` to preprocess new sentences.\n",
    "\n",
    "- Convert the sentence to lowercase\n",
    "- Convert words into ids using `vocab_to_int`\n",
    " - Convert words not in the vocabulary, to the `<UNK>` word id."
   ]
  },
  {
   "cell_type": "code",
   "execution_count": 39,
   "metadata": {
    "collapsed": false,
    "deletable": true,
    "editable": true
   },
   "outputs": [
    {
     "name": "stdout",
     "output_type": "stream",
     "text": [
      "Tests Passed\n"
     ]
    }
   ],
   "source": [
    "def sentence_to_seq(sentence, vocab_to_int):\n",
    "    \"\"\"\n",
    "    Convert a sentence to a sequence of ids\n",
    "    :param sentence: String\n",
    "    :param vocab_to_int: Dictionary to go from the words to an id\n",
    "    :return: List of word ids\n",
    "    \"\"\"\n",
    "    # TODO: Implement Function\n",
    "    \n",
    "    sentence = sentence.lower()\n",
    "    word_ids = []\n",
    "    \n",
    "    for word in sentence.split():\n",
    "        if word in vocab_to_int.keys():\n",
    "            word_ids.append(vocab_to_int[word])\n",
    "        else:\n",
    "            word_ids.append(vocab_to_int[\"<UNK>\"])\n",
    "    \n",
    "    return word_ids\n",
    "\n",
    "\n",
    "\"\"\"\n",
    "DON'T MODIFY ANYTHING IN THIS CELL THAT IS BELOW THIS LINE\n",
    "\"\"\"\n",
    "tests.test_sentence_to_seq(sentence_to_seq)"
   ]
  },
  {
   "cell_type": "markdown",
   "metadata": {
    "deletable": true,
    "editable": true
   },
   "source": [
    "## Translate\n",
    "This will translate `translate_sentence` from English to French."
   ]
  },
  {
   "cell_type": "code",
   "execution_count": 48,
   "metadata": {
    "collapsed": false,
    "deletable": true,
    "editable": true
   },
   "outputs": [
    {
     "name": "stdout",
     "output_type": "stream",
     "text": [
      "Input\n",
      "  Word Ids:      [133, 124, 7, 2, 171, 105, 49]\n",
      "  English Words: ['it', 'is', 'usually', '<UNK>', 'in', 'winter', '.']\n",
      "\n",
      "Prediction\n",
      "  Word Ids:      [24, 103, 136, 251, 115, 216, 100, 1]\n",
      "  French Words: ['inde', 'est', 'la', 'neige', 'en', 'hiver', '.', '<EOS>']\n"
     ]
    }
   ],
   "source": [
    "translate_sentence = 'it is usually snowing in winter .'\n",
    "\n",
    "\n",
    "\"\"\"\n",
    "DON'T MODIFY ANYTHING IN THIS CELL\n",
    "\"\"\"\n",
    "translate_sentence = sentence_to_seq(translate_sentence, source_vocab_to_int)\n",
    "\n",
    "loaded_graph = tf.Graph()\n",
    "with tf.Session(graph=loaded_graph) as sess:\n",
    "    # Load saved model\n",
    "    loader = tf.train.import_meta_graph(load_path + '.meta')\n",
    "    loader.restore(sess, load_path)\n",
    "\n",
    "    input_data = loaded_graph.get_tensor_by_name('input:0')\n",
    "    logits = loaded_graph.get_tensor_by_name('logits:0')\n",
    "    keep_prob = loaded_graph.get_tensor_by_name('keep_prob:0')\n",
    "\n",
    "    translate_logits = sess.run(logits, {input_data: [translate_sentence], keep_prob: 1.0})[0]\n",
    "\n",
    "print('Input')\n",
    "print('  Word Ids:      {}'.format([i for i in translate_sentence]))\n",
    "print('  English Words: {}'.format([source_int_to_vocab[i] for i in translate_sentence]))\n",
    "\n",
    "print('\\nPrediction')\n",
    "print('  Word Ids:      {}'.format([i for i in np.argmax(translate_logits, 1)]))\n",
    "print('  French Words: {}'.format([target_int_to_vocab[i] for i in np.argmax(translate_logits, 1)]))"
   ]
  },
  {
   "cell_type": "markdown",
   "metadata": {
    "deletable": true,
    "editable": true
   },
   "source": [
    "## Imperfect Translation\n",
    "You might notice that some sentences translate better than others.  Since the dataset you're using only has a vocabulary of 227 English words of the thousands that you use, you're only going to see good results using these words.  For this project, you don't need a perfect translation. However, if you want to create a better translation model, you'll need better data.\n",
    "\n",
    "You can train on the [WMT10 French-English corpus](http://www.statmt.org/wmt10/training-giga-fren.tar).  This dataset has more vocabulary and richer in topics discussed.  However, this will take you days to train, so make sure you've a GPU and the neural network is performing well on dataset we provided.  Just make sure you play with the WMT10 corpus after you've submitted this project.\n",
    "## Submitting This Project\n",
    "When submitting this project, make sure to run all the cells before saving the notebook. Save the notebook file as \"dlnd_language_translation.ipynb\" and save it as a HTML file under \"File\" -> \"Download as\". Include the \"helper.py\" and \"problem_unittests.py\" files in your submission."
   ]
  }
 ],
 "metadata": {
  "kernelspec": {
   "display_name": "Python 3",
   "language": "python",
   "name": "python3"
  },
  "language_info": {
   "codemirror_mode": {
    "name": "ipython",
    "version": 3
   },
   "file_extension": ".py",
   "mimetype": "text/x-python",
   "name": "python",
   "nbconvert_exporter": "python",
   "pygments_lexer": "ipython3",
   "version": "3.5.3"
  }
 },
 "nbformat": 4,
 "nbformat_minor": 0
}
