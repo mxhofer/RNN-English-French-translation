{
 "cells": [
  {
   "cell_type": "markdown",
   "metadata": {
    "collapsed": true,
    "deletable": true,
    "editable": true
   },
   "source": [
    "# Language Translation\n",
    "In this project, you’re going to take a peek into the realm of neural network machine translation.  You’ll be training a sequence to sequence model on a dataset of English and French sentences that can translate new sentences from English to French.\n",
    "## Get the Data\n",
    "Since translating the whole language of English to French will take lots of time to train, we have provided you with a small portion of the English corpus."
   ]
  },
  {
   "cell_type": "code",
   "execution_count": 1,
   "metadata": {
    "collapsed": false,
    "deletable": true,
    "editable": true
   },
   "outputs": [],
   "source": [
    "\"\"\"\n",
    "DON'T MODIFY ANYTHING IN THIS CELL\n",
    "\"\"\"\n",
    "import helper\n",
    "import problem_unittests as tests\n",
    "\n",
    "source_path = 'data/small_vocab_en'\n",
    "target_path = 'data/small_vocab_fr'\n",
    "source_text = helper.load_data(source_path)\n",
    "target_text = helper.load_data(target_path)"
   ]
  },
  {
   "cell_type": "markdown",
   "metadata": {
    "deletable": true,
    "editable": true
   },
   "source": [
    "## Explore the Data\n",
    "Play around with view_sentence_range to view different parts of the data."
   ]
  },
  {
   "cell_type": "code",
   "execution_count": 2,
   "metadata": {
    "collapsed": false,
    "deletable": true,
    "editable": true
   },
   "outputs": [
    {
     "name": "stdout",
     "output_type": "stream",
     "text": [
      "Dataset Stats\n",
      "Roughly the number of unique words: 227\n",
      "Number of sentences: 137861\n",
      "Average number of words in a sentence: 13.225277634719028\n",
      "\n",
      "English sentences 0 to 10:\n",
      "new jersey is sometimes quiet during autumn , and it is snowy in april .\n",
      "the united states is usually chilly during july , and it is usually freezing in november .\n",
      "california is usually quiet during march , and it is usually hot in june .\n",
      "the united states is sometimes mild during june , and it is cold in september .\n",
      "your least liked fruit is the grape , but my least liked is the apple .\n",
      "his favorite fruit is the orange , but my favorite is the grape .\n",
      "paris is relaxing during december , but it is usually chilly in july .\n",
      "new jersey is busy during spring , and it is never hot in march .\n",
      "our least liked fruit is the lemon , but my least liked is the grape .\n",
      "the united states is sometimes busy during january , and it is sometimes warm in november .\n",
      "\n",
      "French sentences 0 to 10:\n",
      "new jersey est parfois calme pendant l' automne , et il est neigeux en avril .\n",
      "les états-unis est généralement froid en juillet , et il gèle habituellement en novembre .\n",
      "california est généralement calme en mars , et il est généralement chaud en juin .\n",
      "les états-unis est parfois légère en juin , et il fait froid en septembre .\n",
      "votre moins aimé fruit est le raisin , mais mon moins aimé est la pomme .\n",
      "son fruit préféré est l'orange , mais mon préféré est le raisin .\n",
      "paris est relaxant en décembre , mais il est généralement froid en juillet .\n",
      "new jersey est occupé au printemps , et il est jamais chaude en mars .\n",
      "notre fruit est moins aimé le citron , mais mon moins aimé est le raisin .\n",
      "les états-unis est parfois occupé en janvier , et il est parfois chaud en novembre .\n"
     ]
    }
   ],
   "source": [
    "view_sentence_range = (0, 10)\n",
    "\n",
    "\"\"\"\n",
    "DON'T MODIFY ANYTHING IN THIS CELL\n",
    "\"\"\"\n",
    "import numpy as np\n",
    "\n",
    "print('Dataset Stats')\n",
    "print('Roughly the number of unique words: {}'.format(len({word: None for word in source_text.split()})))\n",
    "\n",
    "sentences = source_text.split('\\n')\n",
    "word_counts = [len(sentence.split()) for sentence in sentences]\n",
    "print('Number of sentences: {}'.format(len(sentences)))\n",
    "print('Average number of words in a sentence: {}'.format(np.average(word_counts)))\n",
    "\n",
    "print()\n",
    "print('English sentences {} to {}:'.format(*view_sentence_range))\n",
    "print('\\n'.join(source_text.split('\\n')[view_sentence_range[0]:view_sentence_range[1]]))\n",
    "print()\n",
    "print('French sentences {} to {}:'.format(*view_sentence_range))\n",
    "print('\\n'.join(target_text.split('\\n')[view_sentence_range[0]:view_sentence_range[1]]))"
   ]
  },
  {
   "cell_type": "markdown",
   "metadata": {
    "deletable": true,
    "editable": true
   },
   "source": [
    "## Implement Preprocessing Function\n",
    "### Text to Word Ids\n",
    "As you did with other RNNs, you must turn the text into a number so the computer can understand it. In the function `text_to_ids()`, you'll turn `source_text` and `target_text` from words to ids.  However, you need to add the `<EOS>` word id at the end of each sentence from `target_text`.  This will help the neural network predict when the sentence should end.\n",
    "\n",
    "You can get the `<EOS>` word id by doing:\n",
    "```python\n",
    "target_vocab_to_int['<EOS>']\n",
    "```\n",
    "You can get other word ids using `source_vocab_to_int` and `target_vocab_to_int`."
   ]
  },
  {
   "cell_type": "code",
   "execution_count": 3,
   "metadata": {
    "collapsed": false,
    "deletable": true,
    "editable": true
   },
   "outputs": [
    {
     "name": "stdout",
     "output_type": "stream",
     "text": [
      "Tests Passed\n"
     ]
    }
   ],
   "source": [
    "def text_to_ids(source_text, target_text, source_vocab_to_int, target_vocab_to_int):\n",
    "    \"\"\"\n",
    "    Convert source and target text to proper word ids\n",
    "    :param source_text: String that contains all the source text.\n",
    "    :param target_text: String that contains all the target text.\n",
    "    :param source_vocab_to_int: Dictionary to go from the source words to an id\n",
    "    :param target_vocab_to_int: Dictionary to go from the target words to an id\n",
    "    :return: A tuple of lists (source_id_text, target_id_text)\n",
    "    \"\"\"\n",
    "    # TODO: Implement Function\n",
    "    \n",
    "    \n",
    "    ## approach 3\n",
    "    \n",
    "    source_id_text = []\n",
    "    target_id_text = []\n",
    "    \n",
    "    # sentence in list format\n",
    "    source_text_list = source_text.split(\"\\n\")\n",
    "    target_text_list = target_text.split(\"\\n\")\n",
    "\n",
    "    \n",
    "    for source_sentence in source_text_list:\n",
    "        sub_list = []\n",
    "        for source_word in source_sentence.split():\n",
    "            sub_list.append(source_vocab_to_int[source_word])\n",
    "            # why not add <EOS> to source text?\n",
    "            # if source_word == \".\" or source_word == \"?\" or source_word == \"!\":\n",
    "            #    sub_list.append(source_vocab_to_int[\"<EOS>\"])\n",
    "        source_id_text.append(sub_list)\n",
    "        \n",
    "    for target_sentence in target_text_list:\n",
    "        sub_list = []\n",
    "        for target_word in target_sentence.split():\n",
    "            sub_list.append(target_vocab_to_int[target_word])\n",
    "            if target_word == \".\" or target_word == \"?\" or target_word == \"!\":\n",
    "                sub_list.append(target_vocab_to_int[\"<EOS>\"])\n",
    "        target_id_text.append(sub_list)\n",
    "    \n",
    "    \n",
    "    # print(source_id_text)\n",
    "    # print(target_id_text)\n",
    "    \n",
    "    return source_id_text, target_id_text\n",
    "\n",
    "\"\"\"\n",
    "DON'T MODIFY ANYTHING IN THIS CELL THAT IS BELOW THIS LINE\n",
    "\"\"\"\n",
    "tests.test_text_to_ids(text_to_ids)"
   ]
  },
  {
   "cell_type": "markdown",
   "metadata": {
    "deletable": true,
    "editable": true
   },
   "source": [
    "### Preprocess all the data and save it\n",
    "Running the code cell below will preprocess all the data and save it to file."
   ]
  },
  {
   "cell_type": "code",
   "execution_count": 4,
   "metadata": {
    "collapsed": false,
    "deletable": true,
    "editable": true
   },
   "outputs": [],
   "source": [
    "\"\"\"\n",
    "DON'T MODIFY ANYTHING IN THIS CELL\n",
    "\"\"\"\n",
    "helper.preprocess_and_save_data(source_path, target_path, text_to_ids)"
   ]
  },
  {
   "cell_type": "markdown",
   "metadata": {
    "deletable": true,
    "editable": true
   },
   "source": [
    "# Check Point\n",
    "This is your first checkpoint. If you ever decide to come back to this notebook or have to restart the notebook, you can start from here. The preprocessed data has been saved to disk."
   ]
  },
  {
   "cell_type": "code",
   "execution_count": 5,
   "metadata": {
    "collapsed": false,
    "deletable": true,
    "editable": true
   },
   "outputs": [],
   "source": [
    "\"\"\"\n",
    "DON'T MODIFY ANYTHING IN THIS CELL\n",
    "\"\"\"\n",
    "import numpy as np\n",
    "import helper\n",
    "\n",
    "(source_int_text, target_int_text), (source_vocab_to_int, target_vocab_to_int), _ = helper.load_preprocess()"
   ]
  },
  {
   "cell_type": "markdown",
   "metadata": {
    "deletable": true,
    "editable": true
   },
   "source": [
    "### Check the Version of TensorFlow and Access to GPU\n",
    "This will check to make sure you have the correct version of TensorFlow and access to a GPU"
   ]
  },
  {
   "cell_type": "code",
   "execution_count": 6,
   "metadata": {
    "collapsed": false,
    "deletable": true,
    "editable": true
   },
   "outputs": [
    {
     "name": "stdout",
     "output_type": "stream",
     "text": [
      "TensorFlow Version: 1.0.0\n",
      "Default GPU Device: /gpu:0\n"
     ]
    }
   ],
   "source": [
    "\"\"\"\n",
    "DON'T MODIFY ANYTHING IN THIS CELL\n",
    "\"\"\"\n",
    "from distutils.version import LooseVersion\n",
    "import warnings\n",
    "import tensorflow as tf\n",
    "\n",
    "# Check TensorFlow Version\n",
    "assert LooseVersion(tf.__version__) in [LooseVersion('1.0.0'), LooseVersion('1.0.1')], 'This project requires TensorFlow version 1.0  You are using {}'.format(tf.__version__)\n",
    "print('TensorFlow Version: {}'.format(tf.__version__))\n",
    "\n",
    "# Check for a GPU\n",
    "if not tf.test.gpu_device_name():\n",
    "    warnings.warn('No GPU found. Please use a GPU to train your neural network.')\n",
    "else:\n",
    "    print('Default GPU Device: {}'.format(tf.test.gpu_device_name()))"
   ]
  },
  {
   "cell_type": "markdown",
   "metadata": {
    "deletable": true,
    "editable": true
   },
   "source": [
    "## Build the Neural Network\n",
    "You'll build the components necessary to build a Sequence-to-Sequence model by implementing the following functions below:\n",
    "- `model_inputs`\n",
    "- `process_decoding_input`\n",
    "- `encoding_layer`\n",
    "- `decoding_layer_train`\n",
    "- `decoding_layer_infer`\n",
    "- `decoding_layer`\n",
    "- `seq2seq_model`\n",
    "\n",
    "### Input\n",
    "Implement the `model_inputs()` function to create TF Placeholders for the Neural Network. It should create the following placeholders:\n",
    "\n",
    "- Input text placeholder named \"input\" using the TF Placeholder name parameter with rank 2.\n",
    "- Targets placeholder with rank 2.\n",
    "- Learning rate placeholder with rank 0.\n",
    "- Keep probability placeholder named \"keep_prob\" using the TF Placeholder name parameter with rank 0.\n",
    "\n",
    "Return the placeholders in the following the tuple (Input, Targets, Learing Rate, Keep Probability)"
   ]
  },
  {
   "cell_type": "code",
   "execution_count": 7,
   "metadata": {
    "collapsed": false,
    "deletable": true,
    "editable": true
   },
   "outputs": [
    {
     "name": "stdout",
     "output_type": "stream",
     "text": [
      "Tests Passed\n"
     ]
    }
   ],
   "source": [
    "def model_inputs():\n",
    "    \"\"\"\n",
    "    Create TF Placeholders for input, targets, and learning rate.\n",
    "    :return: Tuple (input, targets, learning rate, keep probability)\n",
    "    \"\"\"\n",
    "    # TODO: Implement Function\n",
    "    model_input = tf.placeholder(tf.int32, [None, None], name=\"input\")\n",
    "    model_targets = tf.placeholder(tf.int32, [None, None], name=\"targets\")\n",
    "    learning_rate = tf.placeholder(tf.float32, None, name=\"learn_rate\")\n",
    "    keep_prob = tf.placeholder(tf.float32, None, name=\"keep_prob\")\n",
    "    \n",
    "    return model_input, model_targets, learning_rate, keep_prob\n",
    "\n",
    "\"\"\"\n",
    "DON'T MODIFY ANYTHING IN THIS CELL THAT IS BELOW THIS LINE\n",
    "\"\"\"\n",
    "tests.test_model_inputs(model_inputs)"
   ]
  },
  {
   "cell_type": "markdown",
   "metadata": {
    "deletable": true,
    "editable": true
   },
   "source": [
    "### Process Decoding Input\n",
    "Implement `process_decoding_input` using TensorFlow to remove the last word id from each batch in `target_data` and concat the GO ID to the begining of each batch."
   ]
  },
  {
   "cell_type": "code",
   "execution_count": 8,
   "metadata": {
    "collapsed": false,
    "deletable": true,
    "editable": true
   },
   "outputs": [
    {
     "name": "stdout",
     "output_type": "stream",
     "text": [
      "Tests Passed\n"
     ]
    }
   ],
   "source": [
    "def process_decoding_input(target_data, target_vocab_to_int, batch_size):\n",
    "    \"\"\"\n",
    "    Preprocess target data for dencoding\n",
    "    :param target_data: Target Placehoder\n",
    "    :param target_vocab_to_int: Dictionary to go from the target words to an id\n",
    "    :param batch_size: Batch Size\n",
    "    :return: Preprocessed target data\n",
    "    \"\"\"\n",
    "    # TODO: Implement Function\n",
    "    \n",
    "    ending = tf.strided_slice(target_data, [0, 0], [batch_size, -1], [1, 1])\n",
    "    decoded_input = tf.concat([tf.fill([batch_size, 1], target_vocab_to_int[\"<GO>\"]), ending], 1)\n",
    "    \n",
    "    return decoded_input\n",
    "\n",
    "\"\"\"\n",
    "DON'T MODIFY ANYTHING IN THIS CELL THAT IS BELOW THIS LINE\n",
    "\"\"\"\n",
    "tests.test_process_decoding_input(process_decoding_input)"
   ]
  },
  {
   "cell_type": "markdown",
   "metadata": {
    "deletable": true,
    "editable": true
   },
   "source": [
    "### Encoding\n",
    "Implement `encoding_layer()` to create a Encoder RNN layer using [`tf.nn.dynamic_rnn()`](https://www.tensorflow.org/api_docs/python/tf/nn/dynamic_rnn)."
   ]
  },
  {
   "cell_type": "code",
   "execution_count": 9,
   "metadata": {
    "collapsed": false,
    "deletable": true,
    "editable": true
   },
   "outputs": [
    {
     "name": "stdout",
     "output_type": "stream",
     "text": [
      "Tests Passed\n"
     ]
    }
   ],
   "source": [
    "def encoding_layer(rnn_inputs, rnn_size, num_layers, keep_prob):\n",
    "    \"\"\"\n",
    "    Create encoding layer\n",
    "    :param rnn_inputs: Inputs for the RNN\n",
    "    :param rnn_size: RNN Size\n",
    "    :param num_layers: Number of layers\n",
    "    :param keep_prob: Dropout keep probability\n",
    "    :return: RNN state\n",
    "    \"\"\"\n",
    "    # TODO: Implement Function\n",
    "    \n",
    "    decoder_cell = tf.contrib.rnn.MultiRNNCell([tf.contrib.rnn.BasicLSTMCell(rnn_size)] * num_layers)\n",
    "\n",
    "    decoder_cell_dropout = tf.contrib.rnn.DropoutWrapper(decoder_cell, keep_prob)\n",
    "    _, dynamic_rnn_decoder = tf.nn.dynamic_rnn(decoder_cell_dropout, rnn_inputs, dtype=tf.float32)\n",
    "    \n",
    "    return dynamic_rnn_decoder\n",
    "\n",
    "\"\"\"\n",
    "DON'T MODIFY ANYTHING IN THIS CELL THAT IS BELOW THIS LINE\n",
    "\"\"\"\n",
    "tests.test_encoding_layer(encoding_layer)"
   ]
  },
  {
   "cell_type": "markdown",
   "metadata": {
    "deletable": true,
    "editable": true
   },
   "source": [
    "### Decoding - Training\n",
    "Create training logits using [`tf.contrib.seq2seq.simple_decoder_fn_train()`](https://www.tensorflow.org/api_docs/python/tf/contrib/seq2seq/simple_decoder_fn_train) and [`tf.contrib.seq2seq.dynamic_rnn_decoder()`](https://www.tensorflow.org/api_docs/python/tf/contrib/seq2seq/dynamic_rnn_decoder).  Apply the `output_fn` to the [`tf.contrib.seq2seq.dynamic_rnn_decoder()`](https://www.tensorflow.org/api_docs/python/tf/contrib/seq2seq/dynamic_rnn_decoder) outputs."
   ]
  },
  {
   "cell_type": "code",
   "execution_count": 10,
   "metadata": {
    "collapsed": false,
    "deletable": true,
    "editable": true
   },
   "outputs": [
    {
     "name": "stdout",
     "output_type": "stream",
     "text": [
      "Tests Passed\n"
     ]
    }
   ],
   "source": [
    "def decoding_layer_train(encoder_state, dec_cell, dec_embed_input, sequence_length, decoding_scope,\n",
    "                         output_fn, keep_prob):\n",
    "    \"\"\"\n",
    "    Create a decoding layer for training\n",
    "    :param encoder_state: Encoder State\n",
    "    :param dec_cell: Decoder RNN Cell\n",
    "    :param dec_embed_input: Decoder embedded input\n",
    "    :param sequence_length: Sequence Length\n",
    "    :param decoding_scope: TenorFlow Variable Scope for decoding\n",
    "    :param output_fn: Function to apply the output layer\n",
    "    :param keep_prob: Dropout keep probability\n",
    "    :return: Train Logits\n",
    "    \"\"\"\n",
    "    # TODO: Implement Function\n",
    "    \n",
    "    training_decoder_fn = tf.contrib.seq2seq.simple_decoder_fn_train(encoder_state)\n",
    "    training_logits, final_state, final_context_state = tf.contrib.seq2seq.dynamic_rnn_decoder(dec_cell, decoder_fn=training_decoder_fn, inputs=dec_embed_input, sequence_length=sequence_length, scope=decoding_scope)\n",
    "    training_logits = output_fn(training_logits)\n",
    "    \n",
    "    training_logits = tf.contrib.layers.dropout(training_logits, keep_prob)\n",
    "    \n",
    "    return training_logits\n",
    "\n",
    "\n",
    "\"\"\"\n",
    "DON'T MODIFY ANYTHING IN THIS CELL THAT IS BELOW THIS LINE\n",
    "\"\"\"\n",
    "tests.test_decoding_layer_train(decoding_layer_train)"
   ]
  },
  {
   "cell_type": "markdown",
   "metadata": {
    "deletable": true,
    "editable": true
   },
   "source": [
    "### Decoding - Inference\n",
    "Create inference logits using [`tf.contrib.seq2seq.simple_decoder_fn_inference()`](https://www.tensorflow.org/api_docs/python/tf/contrib/seq2seq/simple_decoder_fn_inference) and [`tf.contrib.seq2seq.dynamic_rnn_decoder()`](https://www.tensorflow.org/api_docs/python/tf/contrib/seq2seq/dynamic_rnn_decoder). "
   ]
  },
  {
   "cell_type": "code",
   "execution_count": 11,
   "metadata": {
    "collapsed": false,
    "deletable": true,
    "editable": true
   },
   "outputs": [
    {
     "name": "stdout",
     "output_type": "stream",
     "text": [
      "Tests Passed\n"
     ]
    }
   ],
   "source": [
    "def decoding_layer_infer(encoder_state, dec_cell, dec_embeddings, start_of_sequence_id, end_of_sequence_id,\n",
    "                         maximum_length, vocab_size, decoding_scope, output_fn, keep_prob):\n",
    "    \"\"\"\n",
    "    Create a decoding layer for inference\n",
    "    :param encoder_state: Encoder state\n",
    "    :param dec_cell: Decoder RNN Cell\n",
    "    :param dec_embeddings: Decoder embeddings\n",
    "    :param start_of_sequence_id: GO ID\n",
    "    :param end_of_sequence_id: EOS Id\n",
    "    :param maximum_length: The maximum allowed time steps to decode\n",
    "    :param vocab_size: Size of vocabulary\n",
    "    :param decoding_scope: TensorFlow Variable Scope for decoding\n",
    "    :param output_fn: Function to apply the output layer\n",
    "    :param keep_prob: Dropout keep probability\n",
    "    :return: Inference Logits\n",
    "    \"\"\"\n",
    "    # TODO: Implement Function\n",
    "    \n",
    "    decoder_fn_inference = tf.contrib.seq2seq.simple_decoder_fn_inference(output_fn=output_fn, encoder_state=encoder_state, embeddings=dec_embeddings, start_of_sequence_id=start_of_sequence_id, end_of_sequence_id=end_of_sequence_id,maximum_length=maximum_length,num_decoder_symbols=vocab_size)\n",
    "    inference_logits, final_state, final_context_state = tf.contrib.seq2seq.dynamic_rnn_decoder(dec_cell, decoder_fn=decoder_fn_inference, scope=decoding_scope)\n",
    "\n",
    "    inference_logits = tf.contrib.layers.dropout(inference_logits, keep_prob)\n",
    "    \n",
    "    return inference_logits\n",
    "\n",
    "\n",
    "\"\"\"\n",
    "DON'T MODIFY ANYTHING IN THIS CELL THAT IS BELOW THIS LINE\n",
    "\"\"\"\n",
    "tests.test_decoding_layer_infer(decoding_layer_infer)"
   ]
  },
  {
   "cell_type": "markdown",
   "metadata": {
    "deletable": true,
    "editable": true
   },
   "source": [
    "### Build the Decoding Layer\n",
    "Implement `decoding_layer()` to create a Decoder RNN layer.\n",
    "\n",
    "- Create RNN cell for decoding using `rnn_size` and `num_layers`.\n",
    "- Create the output fuction using [`lambda`](https://docs.python.org/3/tutorial/controlflow.html#lambda-expressions) to transform it's input, logits, to class logits.\n",
    "- Use the your `decoding_layer_train(encoder_state, dec_cell, dec_embed_input, sequence_length, decoding_scope, output_fn, keep_prob)` function to get the training logits.\n",
    "- Use your `decoding_layer_infer(encoder_state, dec_cell, dec_embeddings, start_of_sequence_id, end_of_sequence_id, maximum_length, vocab_size, decoding_scope, output_fn, keep_prob)` function to get the inference logits.\n",
    "\n",
    "Note: You'll need to use [tf.variable_scope](https://www.tensorflow.org/api_docs/python/tf/variable_scope) to share variables between training and inference."
   ]
  },
  {
   "cell_type": "code",
   "execution_count": 18,
   "metadata": {
    "collapsed": false,
    "deletable": true,
    "editable": true
   },
   "outputs": [
    {
     "name": "stdout",
     "output_type": "stream",
     "text": [
      "Tests Passed\n"
     ]
    }
   ],
   "source": [
    "def decoding_layer(dec_embed_input, dec_embeddings, encoder_state, vocab_size, sequence_length, rnn_size,\n",
    "                   num_layers, target_vocab_to_int, keep_prob):\n",
    "    \"\"\"\n",
    "    Create decoding layer\n",
    "    :param dec_embed_input: Decoder embedded input\n",
    "    :param dec_embeddings: Decoder embeddings\n",
    "    :param encoder_state: The encoded state\n",
    "    :param vocab_size: Size of vocabulary\n",
    "    :param sequence_length: Sequence Length\n",
    "    :param rnn_size: RNN Size\n",
    "    :param num_layers: Number of layers\n",
    "    :param target_vocab_to_int: Dictionary to go from the target words to an id\n",
    "    :param keep_prob: Dropout keep probability\n",
    "    :return: Tuple of (Training Logits, Inference Logits)\n",
    "    \"\"\"\n",
    "    # TODO: Implement Function\n",
    "        \n",
    "        \n",
    "    dec_cell = tf.contrib.rnn.BasicLSTMCell(rnn_size)\n",
    "    dec_cell_dropout = tf.contrib.rnn.DropoutWrapper(dec_cell, keep_prob)\n",
    "    dec_cell_multi = tf.contrib.rnn.MultiRNNCell([dec_cell_dropout] * num_layers)\n",
    "    \n",
    "    with tf.variable_scope(\"decoding\") as decoding_scope:\n",
    "        output_fn = lambda x: tf.contrib.layers.fully_connected(x, vocab_size, None, scope=decoding_scope)\n",
    "\n",
    "    with tf.variable_scope(\"decoding\") as decoding_scope:\n",
    "        training_logits = decoding_layer_train(encoder_state, dec_cell_multi, dec_embed_input, sequence_length, decoding_scope,\n",
    "                                        output_fn, keep_prob)\n",
    "    \n",
    "    with tf.variable_scope(\"decoding\", reuse=True) as decoding_scope:\n",
    "        inference_logits = decoding_layer_infer(encoder_state, dec_cell_multi, dec_embeddings, target_vocab_to_int['<GO>'], target_vocab_to_int['<EOS>'],\n",
    "                                    sequence_length, vocab_size, decoding_scope, output_fn, keep_prob)\n",
    "\n",
    "    return training_logits, inference_logits\n",
    "\n",
    "\n",
    "\"\"\"\n",
    "DON'T MODIFY ANYTHING IN THIS CELL THAT IS BELOW THIS LINE\n",
    "\"\"\"\n",
    "tests.test_decoding_layer(decoding_layer)"
   ]
  },
  {
   "cell_type": "markdown",
   "metadata": {
    "deletable": true,
    "editable": true
   },
   "source": [
    "### Build the Neural Network\n",
    "Apply the functions you implemented above to:\n",
    "\n",
    "- Apply embedding to the input data for the encoder.\n",
    "- Encode the input using your `encoding_layer(rnn_inputs, rnn_size, num_layers, keep_prob)`.\n",
    "- Process target data using your `process_decoding_input(target_data, target_vocab_to_int, batch_size)` function.\n",
    "- Apply embedding to the target data for the decoder.\n",
    "- Decode the encoded input using your `decoding_layer(dec_embed_input, dec_embeddings, encoder_state, vocab_size, sequence_length, rnn_size, num_layers, target_vocab_to_int, keep_prob)`."
   ]
  },
  {
   "cell_type": "code",
   "execution_count": 19,
   "metadata": {
    "collapsed": false,
    "deletable": true,
    "editable": true
   },
   "outputs": [
    {
     "name": "stdout",
     "output_type": "stream",
     "text": [
      "Tests Passed\n"
     ]
    }
   ],
   "source": [
    "def seq2seq_model(input_data, target_data, keep_prob, batch_size, sequence_length, source_vocab_size, target_vocab_size,\n",
    "                  enc_embedding_size, dec_embedding_size, rnn_size, num_layers, target_vocab_to_int):\n",
    "    \"\"\"\n",
    "    Build the Sequence-to-Sequence part of the neural network\n",
    "    :param input_data: Input placeholder\n",
    "    :param target_data: Target placeholder\n",
    "    :param keep_prob: Dropout keep probability placeholder\n",
    "    :param batch_size: Batch Size\n",
    "    :param sequence_length: Sequence Length\n",
    "    :param source_vocab_size: Source vocabulary size\n",
    "    :param target_vocab_size: Target vocabulary size\n",
    "    :param enc_embedding_size: Decoder embedding size\n",
    "    :param dec_embedding_size: Encoder embedding size\n",
    "    :param rnn_size: RNN Size\n",
    "    :param num_layers: Number of layers\n",
    "    :param target_vocab_to_int: Dictionary to go from the target words to an id\n",
    "    :return: Tuple of (Training Logits, Inference Logits)\n",
    "    \"\"\"\n",
    "    # TODO: Implement Function\n",
    "    \n",
    "    encoder_embed_input = tf.contrib.layers.embed_sequence(input_data, source_vocab_size, enc_embedding_size)\n",
    "    encoder_state = encoding_layer(encoder_embed_input, rnn_size, num_layers, keep_prob)\n",
    "    \n",
    "    decoder_input = process_decoding_input(target_data, target_vocab_to_int, batch_size) \n",
    "    decoder_embeddings = tf.Variable(tf.random_uniform([target_vocab_size, dec_embedding_size]))\n",
    "    decoder_embed_input = tf.nn.embedding_lookup(decoder_embeddings, decoder_input)\n",
    "   \n",
    "    training_logits, inference_logits = decoding_layer(decoder_embed_input, decoder_embeddings, encoder_state, target_vocab_size, \n",
    "                              sequence_length, rnn_size, num_layers, target_vocab_to_int, keep_prob)\n",
    "    \n",
    "    return training_logits,inference_logits\n",
    "\n",
    "\n",
    "\"\"\"\n",
    "DON'T MODIFY ANYTHING IN THIS CELL THAT IS BELOW THIS LINE\n",
    "\"\"\"\n",
    "tests.test_seq2seq_model(seq2seq_model)"
   ]
  },
  {
   "cell_type": "markdown",
   "metadata": {
    "deletable": true,
    "editable": true
   },
   "source": [
    "## Neural Network Training\n",
    "### Hyperparameters\n",
    "Tune the following parameters:\n",
    "\n",
    "- Set `epochs` to the number of epochs.\n",
    "- Set `batch_size` to the batch size.\n",
    "- Set `rnn_size` to the size of the RNNs.\n",
    "- Set `num_layers` to the number of layers.\n",
    "- Set `encoding_embedding_size` to the size of the embedding for the encoder.\n",
    "- Set `decoding_embedding_size` to the size of the embedding for the decoder.\n",
    "- Set `learning_rate` to the learning rate.\n",
    "- Set `keep_probability` to the Dropout keep probability"
   ]
  },
  {
   "cell_type": "code",
   "execution_count": 24,
   "metadata": {
    "collapsed": true,
    "deletable": true,
    "editable": true
   },
   "outputs": [],
   "source": [
    "# Number of Epochs\n",
    "epochs = 5\n",
    "# Batch Size\n",
    "batch_size = 256\n",
    "# RNN Size\n",
    "rnn_size = 256\n",
    "# Number of Layers\n",
    "num_layers = 2\n",
    "# Embedding Size\n",
    "encoding_embedding_size = 250  # does this have anything to do with the average sentence length? \n",
    "decoding_embedding_size = 250\n",
    "# Learning Rate\n",
    "learning_rate = 0.001\n",
    "# Dropout Keep Probability\n",
    "keep_probability = 0.6"
   ]
  },
  {
   "cell_type": "markdown",
   "metadata": {
    "deletable": true,
    "editable": true
   },
   "source": [
    "### Build the Graph\n",
    "Build the graph using the neural network you implemented."
   ]
  },
  {
   "cell_type": "code",
   "execution_count": 25,
   "metadata": {
    "collapsed": false,
    "deletable": true,
    "editable": true
   },
   "outputs": [],
   "source": [
    "\"\"\"\n",
    "DON'T MODIFY ANYTHING IN THIS CELL\n",
    "\"\"\"\n",
    "save_path = 'checkpoints/dev'\n",
    "(source_int_text, target_int_text), (source_vocab_to_int, target_vocab_to_int), _ = helper.load_preprocess()\n",
    "max_source_sentence_length = max([len(sentence) for sentence in source_int_text])\n",
    "\n",
    "train_graph = tf.Graph()\n",
    "with train_graph.as_default():\n",
    "    input_data, targets, lr, keep_prob = model_inputs()\n",
    "    sequence_length = tf.placeholder_with_default(max_source_sentence_length, None, name='sequence_length')\n",
    "    input_shape = tf.shape(input_data)\n",
    "    \n",
    "    train_logits, inference_logits = seq2seq_model(\n",
    "        tf.reverse(input_data, [-1]), targets, keep_prob, batch_size, sequence_length, len(source_vocab_to_int), len(target_vocab_to_int),\n",
    "        encoding_embedding_size, decoding_embedding_size, rnn_size, num_layers, target_vocab_to_int)\n",
    "\n",
    "    tf.identity(inference_logits, 'logits')\n",
    "    with tf.name_scope(\"optimization\"):\n",
    "        # Loss function\n",
    "        cost = tf.contrib.seq2seq.sequence_loss(\n",
    "            train_logits,\n",
    "            targets,\n",
    "            tf.ones([input_shape[0], sequence_length]))\n",
    "\n",
    "        # Optimizer\n",
    "        optimizer = tf.train.AdamOptimizer(lr)\n",
    "\n",
    "        # Gradient Clipping\n",
    "        gradients = optimizer.compute_gradients(cost)\n",
    "        capped_gradients = [(tf.clip_by_value(grad, -1., 1.), var) for grad, var in gradients if grad is not None]\n",
    "        train_op = optimizer.apply_gradients(capped_gradients)"
   ]
  },
  {
   "cell_type": "markdown",
   "metadata": {
    "deletable": true,
    "editable": true
   },
   "source": [
    "### Train\n",
    "Train the neural network on the preprocessed data. If you have a hard time getting a good loss, check the forms to see if anyone is having the same problem."
   ]
  },
  {
   "cell_type": "code",
   "execution_count": 26,
   "metadata": {
    "collapsed": false,
    "deletable": true,
    "editable": true,
    "scrolled": true
   },
   "outputs": [
    {
     "name": "stdout",
     "output_type": "stream",
     "text": [
      "Epoch   0 Batch    0/538 - Train Accuracy:  0.235, Validation Accuracy:  0.317, Loss:  5.875\n",
      "Epoch   0 Batch   10/538 - Train Accuracy:  0.289, Validation Accuracy:  0.372, Loss:  4.542\n",
      "Epoch   0 Batch   20/538 - Train Accuracy:  0.350, Validation Accuracy:  0.396, Loss:  4.095\n",
      "Epoch   0 Batch   30/538 - Train Accuracy:  0.399, Validation Accuracy:  0.458, Loss:  3.925\n",
      "Epoch   0 Batch   40/538 - Train Accuracy:  0.463, Validation Accuracy:  0.466, Loss:  3.631\n",
      "Epoch   0 Batch   50/538 - Train Accuracy:  0.439, Validation Accuracy:  0.483, Loss:  3.710\n",
      "Epoch   0 Batch   60/538 - Train Accuracy:  0.445, Validation Accuracy:  0.504, Loss:  3.616\n",
      "Epoch   0 Batch   70/538 - Train Accuracy:  0.459, Validation Accuracy:  0.500, Loss:  3.469\n",
      "Epoch   0 Batch   80/538 - Train Accuracy:  0.428, Validation Accuracy:  0.490, Loss:  3.436\n",
      "Epoch   0 Batch   90/538 - Train Accuracy:  0.436, Validation Accuracy:  0.470, Loss:  3.263\n",
      "Epoch   0 Batch  100/538 - Train Accuracy:  0.401, Validation Accuracy:  0.462, Loss:  3.179\n",
      "Epoch   0 Batch  110/538 - Train Accuracy:  0.437, Validation Accuracy:  0.483, Loss:  3.148\n",
      "Epoch   0 Batch  120/538 - Train Accuracy:  0.463, Validation Accuracy:  0.502, Loss:  3.063\n",
      "Epoch   0 Batch  130/538 - Train Accuracy:  0.443, Validation Accuracy:  0.483, Loss:  3.045\n",
      "Epoch   0 Batch  140/538 - Train Accuracy:  0.413, Validation Accuracy:  0.464, Loss:  3.001\n",
      "Epoch   0 Batch  150/538 - Train Accuracy:  0.461, Validation Accuracy:  0.504, Loss:  2.888\n",
      "Epoch   0 Batch  160/538 - Train Accuracy:  0.509, Validation Accuracy:  0.527, Loss:  2.883\n",
      "Epoch   0 Batch  170/538 - Train Accuracy:  0.520, Validation Accuracy:  0.547, Loss:  2.833\n",
      "Epoch   0 Batch  180/538 - Train Accuracy:  0.549, Validation Accuracy:  0.546, Loss:  2.807\n",
      "Epoch   0 Batch  190/538 - Train Accuracy:  0.503, Validation Accuracy:  0.533, Loss:  2.777\n",
      "Epoch   0 Batch  200/538 - Train Accuracy:  0.521, Validation Accuracy:  0.543, Loss:  2.728\n",
      "Epoch   0 Batch  210/538 - Train Accuracy:  0.528, Validation Accuracy:  0.555, Loss:  2.708\n",
      "Epoch   0 Batch  220/538 - Train Accuracy:  0.504, Validation Accuracy:  0.550, Loss:  2.718\n",
      "Epoch   0 Batch  230/538 - Train Accuracy:  0.498, Validation Accuracy:  0.557, Loss:  2.752\n",
      "Epoch   0 Batch  240/538 - Train Accuracy:  0.526, Validation Accuracy:  0.555, Loss:  2.675\n",
      "Epoch   0 Batch  250/538 - Train Accuracy:  0.532, Validation Accuracy:  0.570, Loss:  2.634\n",
      "Epoch   0 Batch  260/538 - Train Accuracy:  0.541, Validation Accuracy:  0.565, Loss:  2.634\n",
      "Epoch   0 Batch  270/538 - Train Accuracy:  0.526, Validation Accuracy:  0.570, Loss:  2.653\n",
      "Epoch   0 Batch  280/538 - Train Accuracy:  0.593, Validation Accuracy:  0.580, Loss:  2.566\n",
      "Epoch   0 Batch  290/538 - Train Accuracy:  0.534, Validation Accuracy:  0.587, Loss:  2.618\n",
      "Epoch   0 Batch  300/538 - Train Accuracy:  0.569, Validation Accuracy:  0.581, Loss:  2.570\n",
      "Epoch   0 Batch  310/538 - Train Accuracy:  0.563, Validation Accuracy:  0.589, Loss:  2.583\n",
      "Epoch   0 Batch  320/538 - Train Accuracy:  0.581, Validation Accuracy:  0.586, Loss:  2.563\n",
      "Epoch   0 Batch  330/538 - Train Accuracy:  0.584, Validation Accuracy:  0.594, Loss:  2.552\n",
      "Epoch   0 Batch  340/538 - Train Accuracy:  0.564, Validation Accuracy:  0.595, Loss:  2.629\n",
      "Epoch   0 Batch  350/538 - Train Accuracy:  0.595, Validation Accuracy:  0.604, Loss:  2.567\n",
      "Epoch   0 Batch  360/538 - Train Accuracy:  0.607, Validation Accuracy:  0.608, Loss:  2.559\n",
      "Epoch   0 Batch  370/538 - Train Accuracy:  0.598, Validation Accuracy:  0.608, Loss:  2.619\n",
      "Epoch   0 Batch  380/538 - Train Accuracy:  0.593, Validation Accuracy:  0.621, Loss:  2.453\n",
      "Epoch   0 Batch  390/538 - Train Accuracy:  0.632, Validation Accuracy:  0.624, Loss:  2.503\n",
      "Epoch   0 Batch  400/538 - Train Accuracy:  0.602, Validation Accuracy:  0.611, Loss:  2.533\n",
      "Epoch   0 Batch  410/538 - Train Accuracy:  0.605, Validation Accuracy:  0.621, Loss:  2.515\n",
      "Epoch   0 Batch  420/538 - Train Accuracy:  0.614, Validation Accuracy:  0.622, Loss:  2.516\n",
      "Epoch   0 Batch  430/538 - Train Accuracy:  0.623, Validation Accuracy:  0.615, Loss:  2.547\n",
      "Epoch   0 Batch  440/538 - Train Accuracy:  0.606, Validation Accuracy:  0.625, Loss:  2.555\n",
      "Epoch   0 Batch  450/538 - Train Accuracy:  0.643, Validation Accuracy:  0.631, Loss:  2.501\n",
      "Epoch   0 Batch  460/538 - Train Accuracy:  0.594, Validation Accuracy:  0.628, Loss:  2.508\n",
      "Epoch   0 Batch  470/538 - Train Accuracy:  0.633, Validation Accuracy:  0.641, Loss:  2.499\n",
      "Epoch   0 Batch  480/538 - Train Accuracy:  0.626, Validation Accuracy:  0.630, Loss:  2.427\n",
      "Epoch   0 Batch  490/538 - Train Accuracy:  0.622, Validation Accuracy:  0.638, Loss:  2.442\n",
      "Epoch   0 Batch  500/538 - Train Accuracy:  0.642, Validation Accuracy:  0.643, Loss:  2.423\n",
      "Epoch   0 Batch  510/538 - Train Accuracy:  0.629, Validation Accuracy:  0.638, Loss:  2.450\n",
      "Epoch   0 Batch  520/538 - Train Accuracy:  0.605, Validation Accuracy:  0.644, Loss:  2.537\n",
      "Epoch   0 Batch  530/538 - Train Accuracy:  0.624, Validation Accuracy:  0.640, Loss:  2.515\n",
      "Epoch   1 Batch    0/538 - Train Accuracy:  0.587, Validation Accuracy:  0.641, Loss:  2.477\n",
      "Epoch   1 Batch   10/538 - Train Accuracy:  0.573, Validation Accuracy:  0.631, Loss:  2.415\n",
      "Epoch   1 Batch   20/538 - Train Accuracy:  0.615, Validation Accuracy:  0.630, Loss:  2.515\n",
      "Epoch   1 Batch   30/538 - Train Accuracy:  0.623, Validation Accuracy:  0.611, Loss:  2.525\n",
      "Epoch   1 Batch   40/538 - Train Accuracy:  0.679, Validation Accuracy:  0.649, Loss:  2.384\n",
      "Epoch   1 Batch   50/538 - Train Accuracy:  0.631, Validation Accuracy:  0.627, Loss:  2.401\n",
      "Epoch   1 Batch   60/538 - Train Accuracy:  0.629, Validation Accuracy:  0.648, Loss:  2.441\n",
      "Epoch   1 Batch   70/538 - Train Accuracy:  0.636, Validation Accuracy:  0.645, Loss:  2.406\n",
      "Epoch   1 Batch   80/538 - Train Accuracy:  0.643, Validation Accuracy:  0.645, Loss:  2.403\n",
      "Epoch   1 Batch   90/538 - Train Accuracy:  0.654, Validation Accuracy:  0.659, Loss:  2.462\n",
      "Epoch   1 Batch  100/538 - Train Accuracy:  0.658, Validation Accuracy:  0.657, Loss:  2.462\n",
      "Epoch   1 Batch  110/538 - Train Accuracy:  0.661, Validation Accuracy:  0.675, Loss:  2.349\n",
      "Epoch   1 Batch  120/538 - Train Accuracy:  0.662, Validation Accuracy:  0.641, Loss:  2.418\n",
      "Epoch   1 Batch  130/538 - Train Accuracy:  0.678, Validation Accuracy:  0.659, Loss:  2.402\n",
      "Epoch   1 Batch  140/538 - Train Accuracy:  0.639, Validation Accuracy:  0.663, Loss:  2.416\n",
      "Epoch   1 Batch  150/538 - Train Accuracy:  0.690, Validation Accuracy:  0.677, Loss:  2.375\n",
      "Epoch   1 Batch  160/538 - Train Accuracy:  0.682, Validation Accuracy:  0.674, Loss:  2.331\n",
      "Epoch   1 Batch  170/538 - Train Accuracy:  0.684, Validation Accuracy:  0.678, Loss:  2.432\n",
      "Epoch   1 Batch  180/538 - Train Accuracy:  0.721, Validation Accuracy:  0.673, Loss:  2.334\n",
      "Epoch   1 Batch  190/538 - Train Accuracy:  0.689, Validation Accuracy:  0.667, Loss:  2.454\n",
      "Epoch   1 Batch  200/538 - Train Accuracy:  0.707, Validation Accuracy:  0.679, Loss:  2.389\n",
      "Epoch   1 Batch  210/538 - Train Accuracy:  0.678, Validation Accuracy:  0.670, Loss:  2.351\n",
      "Epoch   1 Batch  220/538 - Train Accuracy:  0.668, Validation Accuracy:  0.683, Loss:  2.336\n",
      "Epoch   1 Batch  230/538 - Train Accuracy:  0.671, Validation Accuracy:  0.686, Loss:  2.363\n",
      "Epoch   1 Batch  240/538 - Train Accuracy:  0.708, Validation Accuracy:  0.705, Loss:  2.284\n",
      "Epoch   1 Batch  250/538 - Train Accuracy:  0.718, Validation Accuracy:  0.698, Loss:  2.354\n",
      "Epoch   1 Batch  260/538 - Train Accuracy:  0.702, Validation Accuracy:  0.709, Loss:  2.344\n",
      "Epoch   1 Batch  270/538 - Train Accuracy:  0.704, Validation Accuracy:  0.710, Loss:  2.297\n",
      "Epoch   1 Batch  280/538 - Train Accuracy:  0.743, Validation Accuracy:  0.713, Loss:  2.356\n",
      "Epoch   1 Batch  290/538 - Train Accuracy:  0.720, Validation Accuracy:  0.716, Loss:  2.333\n",
      "Epoch   1 Batch  300/538 - Train Accuracy:  0.736, Validation Accuracy:  0.721, Loss:  2.286\n",
      "Epoch   1 Batch  310/538 - Train Accuracy:  0.737, Validation Accuracy:  0.718, Loss:  2.382\n",
      "Epoch   1 Batch  320/538 - Train Accuracy:  0.732, Validation Accuracy:  0.717, Loss:  2.311\n",
      "Epoch   1 Batch  330/538 - Train Accuracy:  0.750, Validation Accuracy:  0.729, Loss:  2.324\n",
      "Epoch   1 Batch  340/538 - Train Accuracy:  0.752, Validation Accuracy:  0.739, Loss:  2.282\n",
      "Epoch   1 Batch  350/538 - Train Accuracy:  0.756, Validation Accuracy:  0.746, Loss:  2.278\n",
      "Epoch   1 Batch  360/538 - Train Accuracy:  0.746, Validation Accuracy:  0.738, Loss:  2.283\n",
      "Epoch   1 Batch  370/538 - Train Accuracy:  0.746, Validation Accuracy:  0.758, Loss:  2.335\n",
      "Epoch   1 Batch  380/538 - Train Accuracy:  0.768, Validation Accuracy:  0.760, Loss:  2.254\n",
      "Epoch   1 Batch  390/538 - Train Accuracy:  0.786, Validation Accuracy:  0.755, Loss:  2.301\n",
      "Epoch   1 Batch  400/538 - Train Accuracy:  0.771, Validation Accuracy:  0.746, Loss:  2.283\n",
      "Epoch   1 Batch  410/538 - Train Accuracy:  0.743, Validation Accuracy:  0.756, Loss:  2.298\n",
      "Epoch   1 Batch  420/538 - Train Accuracy:  0.772, Validation Accuracy:  0.771, Loss:  2.310\n",
      "Epoch   1 Batch  430/538 - Train Accuracy:  0.785, Validation Accuracy:  0.782, Loss:  2.303\n",
      "Epoch   1 Batch  440/538 - Train Accuracy:  0.782, Validation Accuracy:  0.776, Loss:  2.235\n",
      "Epoch   1 Batch  450/538 - Train Accuracy:  0.799, Validation Accuracy:  0.782, Loss:  2.296\n",
      "Epoch   1 Batch  460/538 - Train Accuracy:  0.767, Validation Accuracy:  0.776, Loss:  2.216\n",
      "Epoch   1 Batch  470/538 - Train Accuracy:  0.787, Validation Accuracy:  0.779, Loss:  2.258\n",
      "Epoch   1 Batch  480/538 - Train Accuracy:  0.786, Validation Accuracy:  0.782, Loss:  2.189\n",
      "Epoch   1 Batch  490/538 - Train Accuracy:  0.806, Validation Accuracy:  0.794, Loss:  2.268\n",
      "Epoch   1 Batch  500/538 - Train Accuracy:  0.829, Validation Accuracy:  0.787, Loss:  2.253\n",
      "Epoch   1 Batch  510/538 - Train Accuracy:  0.805, Validation Accuracy:  0.790, Loss:  2.179\n",
      "Epoch   1 Batch  520/538 - Train Accuracy:  0.810, Validation Accuracy:  0.794, Loss:  2.231\n",
      "Epoch   1 Batch  530/538 - Train Accuracy:  0.788, Validation Accuracy:  0.817, Loss:  2.211\n",
      "Epoch   2 Batch    0/538 - Train Accuracy:  0.819, Validation Accuracy:  0.807, Loss:  2.286\n",
      "Epoch   2 Batch   10/538 - Train Accuracy:  0.799, Validation Accuracy:  0.806, Loss:  2.249\n",
      "Epoch   2 Batch   20/538 - Train Accuracy:  0.828, Validation Accuracy:  0.809, Loss:  2.221\n",
      "Epoch   2 Batch   30/538 - Train Accuracy:  0.811, Validation Accuracy:  0.824, Loss:  2.189\n",
      "Epoch   2 Batch   40/538 - Train Accuracy:  0.847, Validation Accuracy:  0.828, Loss:  2.172\n",
      "Epoch   2 Batch   50/538 - Train Accuracy:  0.834, Validation Accuracy:  0.839, Loss:  2.169\n",
      "Epoch   2 Batch   60/538 - Train Accuracy:  0.861, Validation Accuracy:  0.822, Loss:  2.182\n",
      "Epoch   2 Batch   70/538 - Train Accuracy:  0.832, Validation Accuracy:  0.823, Loss:  2.145\n",
      "Epoch   2 Batch   80/538 - Train Accuracy:  0.835, Validation Accuracy:  0.839, Loss:  2.230\n",
      "Epoch   2 Batch   90/538 - Train Accuracy:  0.828, Validation Accuracy:  0.835, Loss:  2.194\n",
      "Epoch   2 Batch  100/538 - Train Accuracy:  0.867, Validation Accuracy:  0.854, Loss:  2.144\n",
      "Epoch   2 Batch  110/538 - Train Accuracy:  0.877, Validation Accuracy:  0.860, Loss:  2.144\n",
      "Epoch   2 Batch  120/538 - Train Accuracy:  0.856, Validation Accuracy:  0.849, Loss:  2.173\n",
      "Epoch   2 Batch  130/538 - Train Accuracy:  0.876, Validation Accuracy:  0.859, Loss:  2.147\n",
      "Epoch   2 Batch  140/538 - Train Accuracy:  0.848, Validation Accuracy:  0.857, Loss:  2.166\n",
      "Epoch   2 Batch  150/538 - Train Accuracy:  0.870, Validation Accuracy:  0.863, Loss:  2.104\n",
      "Epoch   2 Batch  160/538 - Train Accuracy:  0.861, Validation Accuracy:  0.852, Loss:  2.142\n",
      "Epoch   2 Batch  170/538 - Train Accuracy:  0.856, Validation Accuracy:  0.841, Loss:  2.170\n",
      "Epoch   2 Batch  180/538 - Train Accuracy:  0.875, Validation Accuracy:  0.856, Loss:  2.132\n",
      "Epoch   2 Batch  190/538 - Train Accuracy:  0.863, Validation Accuracy:  0.875, Loss:  2.203\n",
      "Epoch   2 Batch  200/538 - Train Accuracy:  0.883, Validation Accuracy:  0.878, Loss:  2.221\n",
      "Epoch   2 Batch  210/538 - Train Accuracy:  0.862, Validation Accuracy:  0.866, Loss:  2.115\n",
      "Epoch   2 Batch  220/538 - Train Accuracy:  0.863, Validation Accuracy:  0.884, Loss:  2.110\n",
      "Epoch   2 Batch  230/538 - Train Accuracy:  0.881, Validation Accuracy:  0.868, Loss:  2.158\n",
      "Epoch   2 Batch  240/538 - Train Accuracy:  0.875, Validation Accuracy:  0.872, Loss:  2.172\n",
      "Epoch   2 Batch  250/538 - Train Accuracy:  0.900, Validation Accuracy:  0.885, Loss:  2.129\n",
      "Epoch   2 Batch  260/538 - Train Accuracy:  0.838, Validation Accuracy:  0.879, Loss:  2.144\n",
      "Epoch   2 Batch  270/538 - Train Accuracy:  0.889, Validation Accuracy:  0.882, Loss:  2.064\n",
      "Epoch   2 Batch  280/538 - Train Accuracy:  0.897, Validation Accuracy:  0.883, Loss:  2.153\n",
      "Epoch   2 Batch  290/538 - Train Accuracy:  0.905, Validation Accuracy:  0.883, Loss:  2.123\n",
      "Epoch   2 Batch  300/538 - Train Accuracy:  0.893, Validation Accuracy:  0.885, Loss:  2.092\n",
      "Epoch   2 Batch  310/538 - Train Accuracy:  0.888, Validation Accuracy:  0.895, Loss:  2.071\n",
      "Epoch   2 Batch  320/538 - Train Accuracy:  0.881, Validation Accuracy:  0.887, Loss:  2.086\n",
      "Epoch   2 Batch  330/538 - Train Accuracy:  0.903, Validation Accuracy:  0.887, Loss:  2.111\n",
      "Epoch   2 Batch  340/538 - Train Accuracy:  0.890, Validation Accuracy:  0.899, Loss:  2.137\n",
      "Epoch   2 Batch  350/538 - Train Accuracy:  0.903, Validation Accuracy:  0.891, Loss:  2.083\n",
      "Epoch   2 Batch  360/538 - Train Accuracy:  0.908, Validation Accuracy:  0.890, Loss:  2.125\n",
      "Epoch   2 Batch  370/538 - Train Accuracy:  0.910, Validation Accuracy:  0.898, Loss:  2.062\n",
      "Epoch   2 Batch  380/538 - Train Accuracy:  0.887, Validation Accuracy:  0.893, Loss:  2.090\n",
      "Epoch   2 Batch  390/538 - Train Accuracy:  0.916, Validation Accuracy:  0.901, Loss:  2.068\n",
      "Epoch   2 Batch  400/538 - Train Accuracy:  0.905, Validation Accuracy:  0.887, Loss:  2.046\n",
      "Epoch   2 Batch  410/538 - Train Accuracy:  0.917, Validation Accuracy:  0.901, Loss:  2.070\n",
      "Epoch   2 Batch  420/538 - Train Accuracy:  0.928, Validation Accuracy:  0.900, Loss:  2.036\n",
      "Epoch   2 Batch  430/538 - Train Accuracy:  0.884, Validation Accuracy:  0.905, Loss:  2.081\n",
      "Epoch   2 Batch  440/538 - Train Accuracy:  0.889, Validation Accuracy:  0.894, Loss:  2.125\n",
      "Epoch   2 Batch  450/538 - Train Accuracy:  0.895, Validation Accuracy:  0.909, Loss:  2.100\n",
      "Epoch   2 Batch  460/538 - Train Accuracy:  0.877, Validation Accuracy:  0.897, Loss:  2.083\n",
      "Epoch   2 Batch  470/538 - Train Accuracy:  0.911, Validation Accuracy:  0.902, Loss:  2.080\n",
      "Epoch   2 Batch  480/538 - Train Accuracy:  0.917, Validation Accuracy:  0.899, Loss:  2.097\n",
      "Epoch   2 Batch  490/538 - Train Accuracy:  0.910, Validation Accuracy:  0.900, Loss:  2.115\n",
      "Epoch   2 Batch  500/538 - Train Accuracy:  0.928, Validation Accuracy:  0.903, Loss:  2.068\n",
      "Epoch   2 Batch  510/538 - Train Accuracy:  0.925, Validation Accuracy:  0.908, Loss:  2.041\n",
      "Epoch   2 Batch  520/538 - Train Accuracy:  0.906, Validation Accuracy:  0.902, Loss:  2.051\n",
      "Epoch   2 Batch  530/538 - Train Accuracy:  0.894, Validation Accuracy:  0.912, Loss:  2.075\n",
      "Epoch   3 Batch    0/538 - Train Accuracy:  0.918, Validation Accuracy:  0.902, Loss:  2.083\n",
      "Epoch   3 Batch   10/538 - Train Accuracy:  0.910, Validation Accuracy:  0.910, Loss:  2.008\n",
      "Epoch   3 Batch   20/538 - Train Accuracy:  0.913, Validation Accuracy:  0.917, Loss:  2.095\n",
      "Epoch   3 Batch   30/538 - Train Accuracy:  0.902, Validation Accuracy:  0.892, Loss:  2.081\n",
      "Epoch   3 Batch   40/538 - Train Accuracy:  0.920, Validation Accuracy:  0.912, Loss:  2.028\n",
      "Epoch   3 Batch   50/538 - Train Accuracy:  0.922, Validation Accuracy:  0.923, Loss:  2.125\n",
      "Epoch   3 Batch   60/538 - Train Accuracy:  0.934, Validation Accuracy:  0.919, Loss:  2.061\n",
      "Epoch   3 Batch   70/538 - Train Accuracy:  0.926, Validation Accuracy:  0.904, Loss:  2.047\n",
      "Epoch   3 Batch   80/538 - Train Accuracy:  0.917, Validation Accuracy:  0.910, Loss:  1.998\n",
      "Epoch   3 Batch   90/538 - Train Accuracy:  0.929, Validation Accuracy:  0.921, Loss:  2.069\n",
      "Epoch   3 Batch  100/538 - Train Accuracy:  0.927, Validation Accuracy:  0.927, Loss:  2.110\n",
      "Epoch   3 Batch  110/538 - Train Accuracy:  0.932, Validation Accuracy:  0.913, Loss:  2.013\n",
      "Epoch   3 Batch  120/538 - Train Accuracy:  0.936, Validation Accuracy:  0.916, Loss:  2.031\n",
      "Epoch   3 Batch  130/538 - Train Accuracy:  0.939, Validation Accuracy:  0.922, Loss:  2.040\n",
      "Epoch   3 Batch  140/538 - Train Accuracy:  0.904, Validation Accuracy:  0.912, Loss:  2.070\n",
      "Epoch   3 Batch  150/538 - Train Accuracy:  0.930, Validation Accuracy:  0.924, Loss:  2.050\n",
      "Epoch   3 Batch  160/538 - Train Accuracy:  0.910, Validation Accuracy:  0.915, Loss:  2.038\n",
      "Epoch   3 Batch  170/538 - Train Accuracy:  0.911, Validation Accuracy:  0.915, Loss:  2.107\n",
      "Epoch   3 Batch  180/538 - Train Accuracy:  0.935, Validation Accuracy:  0.910, Loss:  2.050\n",
      "Epoch   3 Batch  190/538 - Train Accuracy:  0.908, Validation Accuracy:  0.925, Loss:  2.101\n",
      "Epoch   3 Batch  200/538 - Train Accuracy:  0.921, Validation Accuracy:  0.942, Loss:  1.990\n",
      "Epoch   3 Batch  210/538 - Train Accuracy:  0.921, Validation Accuracy:  0.925, Loss:  2.086\n",
      "Epoch   3 Batch  220/538 - Train Accuracy:  0.903, Validation Accuracy:  0.922, Loss:  1.964\n",
      "Epoch   3 Batch  230/538 - Train Accuracy:  0.928, Validation Accuracy:  0.905, Loss:  2.043\n",
      "Epoch   3 Batch  240/538 - Train Accuracy:  0.921, Validation Accuracy:  0.934, Loss:  2.056\n",
      "Epoch   3 Batch  250/538 - Train Accuracy:  0.926, Validation Accuracy:  0.927, Loss:  2.059\n",
      "Epoch   3 Batch  260/538 - Train Accuracy:  0.900, Validation Accuracy:  0.926, Loss:  2.104\n",
      "Epoch   3 Batch  270/538 - Train Accuracy:  0.917, Validation Accuracy:  0.935, Loss:  2.042\n",
      "Epoch   3 Batch  280/538 - Train Accuracy:  0.928, Validation Accuracy:  0.937, Loss:  2.059\n",
      "Epoch   3 Batch  290/538 - Train Accuracy:  0.948, Validation Accuracy:  0.926, Loss:  2.032\n",
      "Epoch   3 Batch  300/538 - Train Accuracy:  0.913, Validation Accuracy:  0.936, Loss:  2.061\n",
      "Epoch   3 Batch  310/538 - Train Accuracy:  0.938, Validation Accuracy:  0.938, Loss:  2.090\n",
      "Epoch   3 Batch  320/538 - Train Accuracy:  0.945, Validation Accuracy:  0.941, Loss:  1.968\n",
      "Epoch   3 Batch  330/538 - Train Accuracy:  0.936, Validation Accuracy:  0.937, Loss:  2.078\n",
      "Epoch   3 Batch  340/538 - Train Accuracy:  0.912, Validation Accuracy:  0.945, Loss:  2.070\n",
      "Epoch   3 Batch  350/538 - Train Accuracy:  0.934, Validation Accuracy:  0.944, Loss:  2.061\n",
      "Epoch   3 Batch  360/538 - Train Accuracy:  0.937, Validation Accuracy:  0.929, Loss:  2.007\n",
      "Epoch   3 Batch  370/538 - Train Accuracy:  0.943, Validation Accuracy:  0.943, Loss:  2.060\n",
      "Epoch   3 Batch  380/538 - Train Accuracy:  0.931, Validation Accuracy:  0.934, Loss:  1.981\n",
      "Epoch   3 Batch  390/538 - Train Accuracy:  0.946, Validation Accuracy:  0.952, Loss:  1.998\n",
      "Epoch   3 Batch  400/538 - Train Accuracy:  0.943, Validation Accuracy:  0.936, Loss:  2.061\n",
      "Epoch   3 Batch  410/538 - Train Accuracy:  0.952, Validation Accuracy:  0.941, Loss:  2.089\n",
      "Epoch   3 Batch  420/538 - Train Accuracy:  0.940, Validation Accuracy:  0.938, Loss:  2.052\n",
      "Epoch   3 Batch  430/538 - Train Accuracy:  0.924, Validation Accuracy:  0.940, Loss:  2.067\n",
      "Epoch   3 Batch  440/538 - Train Accuracy:  0.921, Validation Accuracy:  0.917, Loss:  2.040\n",
      "Epoch   3 Batch  450/538 - Train Accuracy:  0.903, Validation Accuracy:  0.937, Loss:  2.047\n",
      "Epoch   3 Batch  460/538 - Train Accuracy:  0.909, Validation Accuracy:  0.937, Loss:  2.040\n",
      "Epoch   3 Batch  470/538 - Train Accuracy:  0.944, Validation Accuracy:  0.933, Loss:  2.008\n",
      "Epoch   3 Batch  480/538 - Train Accuracy:  0.944, Validation Accuracy:  0.937, Loss:  2.042\n",
      "Epoch   3 Batch  490/538 - Train Accuracy:  0.947, Validation Accuracy:  0.935, Loss:  2.026\n",
      "Epoch   3 Batch  500/538 - Train Accuracy:  0.953, Validation Accuracy:  0.933, Loss:  2.038\n",
      "Epoch   3 Batch  510/538 - Train Accuracy:  0.949, Validation Accuracy:  0.934, Loss:  2.040\n",
      "Epoch   3 Batch  520/538 - Train Accuracy:  0.936, Validation Accuracy:  0.937, Loss:  2.025\n",
      "Epoch   3 Batch  530/538 - Train Accuracy:  0.915, Validation Accuracy:  0.941, Loss:  2.060\n",
      "Epoch   4 Batch    0/538 - Train Accuracy:  0.941, Validation Accuracy:  0.942, Loss:  2.007\n",
      "Epoch   4 Batch   10/538 - Train Accuracy:  0.935, Validation Accuracy:  0.938, Loss:  2.029\n",
      "Epoch   4 Batch   20/538 - Train Accuracy:  0.940, Validation Accuracy:  0.949, Loss:  2.002\n",
      "Epoch   4 Batch   30/538 - Train Accuracy:  0.934, Validation Accuracy:  0.946, Loss:  2.032\n",
      "Epoch   4 Batch   40/538 - Train Accuracy:  0.943, Validation Accuracy:  0.936, Loss:  2.035\n",
      "Epoch   4 Batch   50/538 - Train Accuracy:  0.930, Validation Accuracy:  0.941, Loss:  2.013\n",
      "Epoch   4 Batch   60/538 - Train Accuracy:  0.945, Validation Accuracy:  0.937, Loss:  2.089\n",
      "Epoch   4 Batch   70/538 - Train Accuracy:  0.954, Validation Accuracy:  0.947, Loss:  2.048\n",
      "Epoch   4 Batch   80/538 - Train Accuracy:  0.938, Validation Accuracy:  0.954, Loss:  1.994\n",
      "Epoch   4 Batch   90/538 - Train Accuracy:  0.943, Validation Accuracy:  0.946, Loss:  2.033\n",
      "Epoch   4 Batch  100/538 - Train Accuracy:  0.939, Validation Accuracy:  0.946, Loss:  1.984\n",
      "Epoch   4 Batch  110/538 - Train Accuracy:  0.939, Validation Accuracy:  0.938, Loss:  2.092\n",
      "Epoch   4 Batch  120/538 - Train Accuracy:  0.957, Validation Accuracy:  0.934, Loss:  1.996\n",
      "Epoch   4 Batch  130/538 - Train Accuracy:  0.950, Validation Accuracy:  0.943, Loss:  2.032\n",
      "Epoch   4 Batch  140/538 - Train Accuracy:  0.938, Validation Accuracy:  0.937, Loss:  2.031\n",
      "Epoch   4 Batch  150/538 - Train Accuracy:  0.953, Validation Accuracy:  0.934, Loss:  2.010\n",
      "Epoch   4 Batch  160/538 - Train Accuracy:  0.923, Validation Accuracy:  0.940, Loss:  2.000\n",
      "Epoch   4 Batch  170/538 - Train Accuracy:  0.939, Validation Accuracy:  0.950, Loss:  2.050\n",
      "Epoch   4 Batch  180/538 - Train Accuracy:  0.946, Validation Accuracy:  0.939, Loss:  1.985\n",
      "Epoch   4 Batch  190/538 - Train Accuracy:  0.931, Validation Accuracy:  0.945, Loss:  2.057\n",
      "Epoch   4 Batch  200/538 - Train Accuracy:  0.951, Validation Accuracy:  0.947, Loss:  2.003\n",
      "Epoch   4 Batch  210/538 - Train Accuracy:  0.926, Validation Accuracy:  0.942, Loss:  2.014\n",
      "Epoch   4 Batch  220/538 - Train Accuracy:  0.926, Validation Accuracy:  0.942, Loss:  2.045\n",
      "Epoch   4 Batch  230/538 - Train Accuracy:  0.936, Validation Accuracy:  0.945, Loss:  2.051\n",
      "Epoch   4 Batch  240/538 - Train Accuracy:  0.932, Validation Accuracy:  0.951, Loss:  2.041\n",
      "Epoch   4 Batch  250/538 - Train Accuracy:  0.951, Validation Accuracy:  0.943, Loss:  1.997\n",
      "Epoch   4 Batch  260/538 - Train Accuracy:  0.925, Validation Accuracy:  0.941, Loss:  2.006\n",
      "Epoch   4 Batch  270/538 - Train Accuracy:  0.947, Validation Accuracy:  0.953, Loss:  2.039\n",
      "Epoch   4 Batch  280/538 - Train Accuracy:  0.958, Validation Accuracy:  0.948, Loss:  2.023\n",
      "Epoch   4 Batch  290/538 - Train Accuracy:  0.973, Validation Accuracy:  0.954, Loss:  2.083\n",
      "Epoch   4 Batch  300/538 - Train Accuracy:  0.940, Validation Accuracy:  0.943, Loss:  2.008\n",
      "Epoch   4 Batch  310/538 - Train Accuracy:  0.961, Validation Accuracy:  0.958, Loss:  2.065\n",
      "Epoch   4 Batch  320/538 - Train Accuracy:  0.959, Validation Accuracy:  0.954, Loss:  2.057\n",
      "Epoch   4 Batch  330/538 - Train Accuracy:  0.951, Validation Accuracy:  0.950, Loss:  1.988\n",
      "Epoch   4 Batch  340/538 - Train Accuracy:  0.925, Validation Accuracy:  0.960, Loss:  1.992\n",
      "Epoch   4 Batch  350/538 - Train Accuracy:  0.951, Validation Accuracy:  0.964, Loss:  2.028\n",
      "Epoch   4 Batch  360/538 - Train Accuracy:  0.942, Validation Accuracy:  0.959, Loss:  2.030\n",
      "Epoch   4 Batch  370/538 - Train Accuracy:  0.953, Validation Accuracy:  0.944, Loss:  2.040\n",
      "Epoch   4 Batch  380/538 - Train Accuracy:  0.951, Validation Accuracy:  0.941, Loss:  2.033\n",
      "Epoch   4 Batch  390/538 - Train Accuracy:  0.956, Validation Accuracy:  0.952, Loss:  2.045\n",
      "Epoch   4 Batch  400/538 - Train Accuracy:  0.949, Validation Accuracy:  0.941, Loss:  2.055\n",
      "Epoch   4 Batch  410/538 - Train Accuracy:  0.951, Validation Accuracy:  0.957, Loss:  2.068\n",
      "Epoch   4 Batch  420/538 - Train Accuracy:  0.949, Validation Accuracy:  0.958, Loss:  2.054\n",
      "Epoch   4 Batch  430/538 - Train Accuracy:  0.933, Validation Accuracy:  0.953, Loss:  2.016\n",
      "Epoch   4 Batch  440/538 - Train Accuracy:  0.947, Validation Accuracy:  0.956, Loss:  2.035\n",
      "Epoch   4 Batch  450/538 - Train Accuracy:  0.931, Validation Accuracy:  0.956, Loss:  2.072\n",
      "Epoch   4 Batch  460/538 - Train Accuracy:  0.935, Validation Accuracy:  0.958, Loss:  2.045\n",
      "Epoch   4 Batch  470/538 - Train Accuracy:  0.952, Validation Accuracy:  0.934, Loss:  2.042\n",
      "Epoch   4 Batch  480/538 - Train Accuracy:  0.954, Validation Accuracy:  0.950, Loss:  2.027\n",
      "Epoch   4 Batch  490/538 - Train Accuracy:  0.952, Validation Accuracy:  0.966, Loss:  1.990\n",
      "Epoch   4 Batch  500/538 - Train Accuracy:  0.954, Validation Accuracy:  0.946, Loss:  1.999\n",
      "Epoch   4 Batch  510/538 - Train Accuracy:  0.959, Validation Accuracy:  0.957, Loss:  2.000\n",
      "Epoch   4 Batch  520/538 - Train Accuracy:  0.952, Validation Accuracy:  0.950, Loss:  2.036\n",
      "Epoch   4 Batch  530/538 - Train Accuracy:  0.927, Validation Accuracy:  0.948, Loss:  2.046\n",
      "Model Trained and Saved\n"
     ]
    }
   ],
   "source": [
    "\"\"\"\n",
    "DON'T MODIFY ANYTHING IN THIS CELL\n",
    "\"\"\"\n",
    "import time\n",
    "\n",
    "def get_accuracy(target, logits):\n",
    "    \"\"\"\n",
    "    Calculate accuracy\n",
    "    \"\"\"\n",
    "    max_seq = max(target.shape[1], logits.shape[1])\n",
    "    if max_seq - target.shape[1]:\n",
    "        target = np.pad(\n",
    "            target,\n",
    "            [(0,0),(0,max_seq - target.shape[1])],\n",
    "            'constant')\n",
    "    if max_seq - logits.shape[1]:\n",
    "        logits = np.pad(\n",
    "            logits,\n",
    "            [(0,0),(0,max_seq - logits.shape[1]), (0,0)],\n",
    "            'constant')\n",
    "\n",
    "    return np.mean(np.equal(target, np.argmax(logits, 2)))\n",
    "\n",
    "train_source = source_int_text[batch_size:]\n",
    "train_target = target_int_text[batch_size:]\n",
    "\n",
    "valid_source = helper.pad_sentence_batch(source_int_text[:batch_size])\n",
    "valid_target = helper.pad_sentence_batch(target_int_text[:batch_size])\n",
    "\n",
    "with tf.Session(graph=train_graph) as sess:\n",
    "    sess.run(tf.global_variables_initializer())\n",
    "\n",
    "    for epoch_i in range(epochs):\n",
    "        for batch_i, (source_batch, target_batch) in enumerate(\n",
    "                helper.batch_data(train_source, train_target, batch_size)):\n",
    "            start_time = time.time()\n",
    "            \n",
    "            _, loss = sess.run(\n",
    "                [train_op, cost],\n",
    "                {input_data: source_batch,\n",
    "                 targets: target_batch,\n",
    "                 lr: learning_rate,\n",
    "                 sequence_length: target_batch.shape[1],\n",
    "                 keep_prob: keep_probability})\n",
    "            \n",
    "            batch_train_logits = sess.run(\n",
    "                inference_logits,\n",
    "                {input_data: source_batch, keep_prob: 1.0})\n",
    "            batch_valid_logits = sess.run(\n",
    "                inference_logits,\n",
    "                {input_data: valid_source, keep_prob: 1.0})\n",
    "                \n",
    "            train_acc = get_accuracy(target_batch, batch_train_logits)\n",
    "            valid_acc = get_accuracy(np.array(valid_target), batch_valid_logits)\n",
    "            end_time = time.time()\n",
    "\n",
    "            # added conditional to avoid an endless log\n",
    "            if batch_i % 10 == 0:\n",
    "                print('Epoch {:>3} Batch {:>4}/{} - Train Accuracy: {:>6.3f}, Validation Accuracy: {:>6.3f}, Loss: {:>6.3f}'\n",
    "                  .format(epoch_i, batch_i, len(source_int_text) // batch_size, train_acc, valid_acc, loss))\n",
    "\n",
    "    # Save Model\n",
    "    saver = tf.train.Saver()\n",
    "    saver.save(sess, save_path)\n",
    "    print('Model Trained and Saved')"
   ]
  },
  {
   "cell_type": "markdown",
   "metadata": {},
   "source": [
    "# Questions"
   ]
  },
  {
   "cell_type": "markdown",
   "metadata": {},
   "source": [
    "- What are pointers for encoding_embedding_size and decoding_embedding_size? \n",
    "- Based on what characteristics do you choose RNN size?\n",
    "- Training and validation accuracy are over 90%, but why does the loss not decrease further?"
   ]
  },
  {
   "cell_type": "markdown",
   "metadata": {
    "deletable": true,
    "editable": true
   },
   "source": [
    "### Save Parameters\n",
    "Save the `batch_size` and `save_path` parameters for inference."
   ]
  },
  {
   "cell_type": "code",
   "execution_count": 27,
   "metadata": {
    "collapsed": false,
    "deletable": true,
    "editable": true
   },
   "outputs": [],
   "source": [
    "\"\"\"\n",
    "DON'T MODIFY ANYTHING IN THIS CELL\n",
    "\"\"\"\n",
    "# Save parameters for checkpoint\n",
    "helper.save_params(save_path)"
   ]
  },
  {
   "cell_type": "markdown",
   "metadata": {
    "deletable": true,
    "editable": true
   },
   "source": [
    "# Checkpoint"
   ]
  },
  {
   "cell_type": "code",
   "execution_count": 28,
   "metadata": {
    "collapsed": false,
    "deletable": true,
    "editable": true
   },
   "outputs": [],
   "source": [
    "\"\"\"\n",
    "DON'T MODIFY ANYTHING IN THIS CELL\n",
    "\"\"\"\n",
    "import tensorflow as tf\n",
    "import numpy as np\n",
    "import helper\n",
    "import problem_unittests as tests\n",
    "\n",
    "_, (source_vocab_to_int, target_vocab_to_int), (source_int_to_vocab, target_int_to_vocab) = helper.load_preprocess()\n",
    "load_path = helper.load_params()"
   ]
  },
  {
   "cell_type": "markdown",
   "metadata": {
    "deletable": true,
    "editable": true
   },
   "source": [
    "## Sentence to Sequence\n",
    "To feed a sentence into the model for translation, you first need to preprocess it.  Implement the function `sentence_to_seq()` to preprocess new sentences.\n",
    "\n",
    "- Convert the sentence to lowercase\n",
    "- Convert words into ids using `vocab_to_int`\n",
    " - Convert words not in the vocabulary, to the `<UNK>` word id."
   ]
  },
  {
   "cell_type": "code",
   "execution_count": 29,
   "metadata": {
    "collapsed": false,
    "deletable": true,
    "editable": true
   },
   "outputs": [
    {
     "name": "stdout",
     "output_type": "stream",
     "text": [
      "Tests Passed\n"
     ]
    }
   ],
   "source": [
    "def sentence_to_seq(sentence, vocab_to_int):\n",
    "    \"\"\"\n",
    "    Convert a sentence to a sequence of ids\n",
    "    :param sentence: String\n",
    "    :param vocab_to_int: Dictionary to go from the words to an id\n",
    "    :return: List of word ids\n",
    "    \"\"\"\n",
    "    # TODO: Implement Function\n",
    "    \n",
    "    sentence = sentence.lower()\n",
    "    word_ids = []\n",
    "    \n",
    "    for word in sentence.split():\n",
    "        if word in vocab_to_int.keys():\n",
    "            word_ids.append(vocab_to_int[word])\n",
    "        else:\n",
    "            word_ids.append(vocab_to_int[\"<UNK>\"])\n",
    "    \n",
    "    return word_ids\n",
    "\n",
    "\n",
    "\"\"\"\n",
    "DON'T MODIFY ANYTHING IN THIS CELL THAT IS BELOW THIS LINE\n",
    "\"\"\"\n",
    "tests.test_sentence_to_seq(sentence_to_seq)"
   ]
  },
  {
   "cell_type": "markdown",
   "metadata": {
    "deletable": true,
    "editable": true
   },
   "source": [
    "## Translate\n",
    "This will translate `translate_sentence` from English to French."
   ]
  },
  {
   "cell_type": "code",
   "execution_count": 32,
   "metadata": {
    "collapsed": false,
    "deletable": true,
    "editable": true
   },
   "outputs": [
    {
     "name": "stdout",
     "output_type": "stream",
     "text": [
      "Input\n",
      "  Word Ids:      [35, 46, 2, 177, 66, 2]\n",
      "  English Words: ['he', 'saw', '<UNK>', 'old', 'yellow', '<UNK>']\n",
      "\n",
      "Prediction\n",
      "  Word Ids:      [28, 227, 186, 294, 317, 268, 1]\n",
      "  French Words: [\"l'\", 'inde', 'est', 'la', 'neige', '.', '<EOS>']\n"
     ]
    }
   ],
   "source": [
    "translate_sentence = 'he saw an old yellow truck.'\n",
    "\n",
    "\n",
    "\"\"\"\n",
    "DON'T MODIFY ANYTHING IN THIS CELL\n",
    "\"\"\"\n",
    "translate_sentence = sentence_to_seq(translate_sentence, source_vocab_to_int)\n",
    "\n",
    "loaded_graph = tf.Graph()\n",
    "with tf.Session(graph=loaded_graph) as sess:\n",
    "    # Load saved model\n",
    "    loader = tf.train.import_meta_graph(load_path + '.meta')\n",
    "    loader.restore(sess, load_path)\n",
    "\n",
    "    input_data = loaded_graph.get_tensor_by_name('input:0')\n",
    "    logits = loaded_graph.get_tensor_by_name('logits:0')\n",
    "    keep_prob = loaded_graph.get_tensor_by_name('keep_prob:0')\n",
    "\n",
    "    translate_logits = sess.run(logits, {input_data: [translate_sentence], keep_prob: 1.0})[0]\n",
    "\n",
    "print('Input')\n",
    "print('  Word Ids:      {}'.format([i for i in translate_sentence]))\n",
    "print('  English Words: {}'.format([source_int_to_vocab[i] for i in translate_sentence]))\n",
    "\n",
    "print('\\nPrediction')\n",
    "print('  Word Ids:      {}'.format([i for i in np.argmax(translate_logits, 1)]))\n",
    "print('  French Words: {}'.format([target_int_to_vocab[i] for i in np.argmax(translate_logits, 1)]))"
   ]
  },
  {
   "cell_type": "markdown",
   "metadata": {
    "deletable": true,
    "editable": true
   },
   "source": [
    "## Imperfect Translation\n",
    "You might notice that some sentences translate better than others.  Since the dataset you're using only has a vocabulary of 227 English words of the thousands that you use, you're only going to see good results using these words.  For this project, you don't need a perfect translation. However, if you want to create a better translation model, you'll need better data.\n",
    "\n",
    "You can train on the [WMT10 French-English corpus](http://www.statmt.org/wmt10/training-giga-fren.tar).  This dataset has more vocabulary and richer in topics discussed.  However, this will take you days to train, so make sure you've a GPU and the neural network is performing well on dataset we provided.  Just make sure you play with the WMT10 corpus after you've submitted this project.\n",
    "## Submitting This Project\n",
    "When submitting this project, make sure to run all the cells before saving the notebook. Save the notebook file as \"dlnd_language_translation.ipynb\" and save it as a HTML file under \"File\" -> \"Download as\". Include the \"helper.py\" and \"problem_unittests.py\" files in your submission."
   ]
  }
 ],
 "metadata": {
  "kernelspec": {
   "display_name": "Python 3",
   "language": "python",
   "name": "python3"
  },
  "language_info": {
   "codemirror_mode": {
    "name": "ipython",
    "version": 3
   },
   "file_extension": ".py",
   "mimetype": "text/x-python",
   "name": "python",
   "nbconvert_exporter": "python",
   "pygments_lexer": "ipython3",
   "version": "3.5.3"
  }
 },
 "nbformat": 4,
 "nbformat_minor": 0
}
